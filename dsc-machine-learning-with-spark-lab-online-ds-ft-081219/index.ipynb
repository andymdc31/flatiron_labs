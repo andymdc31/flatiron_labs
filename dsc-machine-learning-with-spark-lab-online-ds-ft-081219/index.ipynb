{
 "cells": [
  {
   "cell_type": "markdown",
   "metadata": {},
   "source": [
    "## Machine Learning with Spark - Lab\n",
    "\n",
    "## Introduction\n",
    "\n",
    "In the previous lecture, you were shown how to manipulate data with Spark DataFrames as well as create machine learning models. In this lab, you're going to practice loading data, manipulating it, and fitting it into the Spark Framework. Afterward, you're going to make use of different visualizations to see if you can get any insights from the model. This dataset is from a Taiwanese financial company, and the task is to determine which individuals are going to default on their credit card based off of characteristics such as limit balance, past payment history, age, marriage status, and sex. Let's get started!\n",
    "\n",
    "### Objectives\n",
    "\n",
    "* Create machine learning pipeline with pyspark\n",
    "* Evaluate a model with pyspark\n",
    "* Create and interpret visualizations with pyspark"
   ]
  },
  {
   "cell_type": "markdown",
   "metadata": {},
   "source": [
    "To begin with create a SparkSession and read in 'credit_card_default.csv' to a PySpark DataFrame. "
   ]
  },
  {
   "cell_type": "code",
   "execution_count": 1,
   "metadata": {
    "ExecuteTime": {
     "end_time": "2019-12-03T07:07:49.090775Z",
     "start_time": "2019-12-03T07:07:32.316699Z"
    }
   },
   "outputs": [],
   "source": [
    "# import necessary libraries\n",
    "from pyspark import SparkContext\n",
    "from pyspark.sql import SparkSession\n",
    "# initialize Spark Session\n",
    "sc = SparkContext('local[*]')\n",
    "spark = SparkSession(sc)\n",
    "# read in csv to a spark dataframe\n",
    "spark_df = spark.read.csv('./credit_card_default.csv', header='true', inferSchema='true')"
   ]
  },
  {
   "cell_type": "markdown",
   "metadata": {},
   "source": [
    "Check the datatypes to ensure that all columns are the datatype you expect."
   ]
  },
  {
   "cell_type": "code",
   "execution_count": 2,
   "metadata": {
    "ExecuteTime": {
     "end_time": "2019-12-03T07:07:49.133631Z",
     "start_time": "2019-12-03T07:07:49.091742Z"
    }
   },
   "outputs": [
    {
     "data": {
      "text/plain": [
       "[('ID', 'int'),\n",
       " ('LIMIT_BAL', 'double'),\n",
       " ('SEX', 'string'),\n",
       " ('EDUCATION', 'string'),\n",
       " ('MARRIAGE', 'string'),\n",
       " ('AGE', 'int'),\n",
       " ('PAY_0', 'int'),\n",
       " ('PAY_2', 'int'),\n",
       " ('PAY_3', 'int'),\n",
       " ('PAY_4', 'int'),\n",
       " ('PAY_5', 'int'),\n",
       " ('PAY_6', 'int'),\n",
       " ('BILL_AMT1', 'double'),\n",
       " ('BILL_AMT2', 'double'),\n",
       " ('BILL_AMT3', 'double'),\n",
       " ('BILL_AMT4', 'double'),\n",
       " ('BILL_AMT5', 'double'),\n",
       " ('BILL_AMT6', 'double'),\n",
       " ('PAY_AMT1', 'double'),\n",
       " ('PAY_AMT2', 'double'),\n",
       " ('PAY_AMT3', 'double'),\n",
       " ('PAY_AMT4', 'double'),\n",
       " ('PAY_AMT5', 'double'),\n",
       " ('PAY_AMT6', 'double'),\n",
       " ('default', 'int')]"
      ]
     },
     "execution_count": 2,
     "metadata": {},
     "output_type": "execute_result"
    }
   ],
   "source": [
    "spark_df.dtypes"
   ]
  },
  {
   "cell_type": "markdown",
   "metadata": {},
   "source": [
    "Check to see how many null values are in the dataset. This will require using the `filter` , `isNull`, and `count` method."
   ]
  },
  {
   "cell_type": "code",
   "execution_count": 3,
   "metadata": {
    "ExecuteTime": {
     "end_time": "2019-12-03T07:07:54.818362Z",
     "start_time": "2019-12-03T07:07:49.134629Z"
    }
   },
   "outputs": [
    {
     "name": "stdout",
     "output_type": "stream",
     "text": [
      "column ID 0\n",
      "column LIMIT_BAL 0\n",
      "column SEX 0\n",
      "column EDUCATION 0\n",
      "column MARRIAGE 0\n",
      "column AGE 0\n",
      "column PAY_0 0\n",
      "column PAY_2 0\n",
      "column PAY_3 0\n",
      "column PAY_4 0\n",
      "column PAY_5 0\n",
      "column PAY_6 0\n",
      "column BILL_AMT1 0\n",
      "column BILL_AMT2 0\n",
      "column BILL_AMT3 0\n",
      "column BILL_AMT4 0\n",
      "column BILL_AMT5 0\n",
      "column BILL_AMT6 0\n",
      "column PAY_AMT1 0\n",
      "column PAY_AMT2 0\n",
      "column PAY_AMT3 0\n",
      "column PAY_AMT4 0\n",
      "column PAY_AMT5 0\n",
      "column PAY_AMT6 0\n",
      "column default 0\n"
     ]
    }
   ],
   "source": [
    "for col in spark_df.columns:\n",
    "    print('column',col,spark_df.filter(spark_df[col].isNull()).count())"
   ]
  },
  {
   "cell_type": "markdown",
   "metadata": {},
   "source": [
    "Now, determine how many categories there are in each of the categorical columns."
   ]
  },
  {
   "cell_type": "code",
   "execution_count": 4,
   "metadata": {
    "ExecuteTime": {
     "end_time": "2019-12-03T07:07:56.474332Z",
     "start_time": "2019-12-03T07:07:54.819359Z"
    }
   },
   "outputs": [
    {
     "name": "stdout",
     "output_type": "stream",
     "text": [
      "Feature  SEX  has:  [Row(SEX='Female'), Row(SEX='Male')]\n",
      "Feature  EDUCATION  has:  [Row(EDUCATION='High School'), Row(EDUCATION='0'), Row(EDUCATION='5'), Row(EDUCATION='6'), Row(EDUCATION='Other'), Row(EDUCATION='Graduate'), Row(EDUCATION='College')]\n",
      "Feature  MARRIAGE  has:  [Row(MARRIAGE='0'), Row(MARRIAGE='Other'), Row(MARRIAGE='Married'), Row(MARRIAGE='Single')]\n"
     ]
    }
   ],
   "source": [
    "for column , data_type in spark_df.dtypes:\n",
    "    if data_type == 'string':\n",
    "        print('Feature ',column,' has: ', spark_df.select(column).distinct().collect())"
   ]
  },
  {
   "cell_type": "markdown",
   "metadata": {},
   "source": [
    "Interesting... it looks like we have some extraneous values in each of our categories. Let's look at some visualizations of each of these to determine just how many of them there are. Create bar plots of the variables EDUCATION and MARRIAGE to see how many of the undefined values there are. After doing so, come up with a strategy for accounting for the extra value."
   ]
  },
  {
   "cell_type": "code",
   "execution_count": 5,
   "metadata": {
    "ExecuteTime": {
     "end_time": "2019-12-03T07:07:59.037116Z",
     "start_time": "2019-12-03T07:07:56.476327Z"
    }
   },
   "outputs": [
    {
     "data": {
      "text/plain": [
       "<Figure size 640x480 with 1 Axes>"
      ]
     },
     "metadata": {},
     "output_type": "display_data"
    }
   ],
   "source": [
    "import seaborn as sns\n",
    "import matplotlib.pyplot as plt\n",
    "\n",
    "def bar_plot_values(idx, group):\n",
    "    return [x[idx] for x in group]\n",
    "\n",
    "## plotting the categories for education\n",
    "education_cats = spark_df.groupBy('EDUCATION').count().collect()\n",
    "sns.barplot(x=bar_plot_values(0,education_cats),y=bar_plot_values(1,education_cats))\n",
    "plt.show()"
   ]
  },
  {
   "cell_type": "code",
   "execution_count": 6,
   "metadata": {
    "ExecuteTime": {
     "end_time": "2019-12-03T07:07:59.656452Z",
     "start_time": "2019-12-03T07:07:59.039104Z"
    }
   },
   "outputs": [
    {
     "data": {
      "image/png": "[encoded data removed]",
      "text/plain": [
       "<Figure size 432x288 with 1 Axes>"
      ]
     },
     "metadata": {
      "needs_background": "light"
     },
     "output_type": "display_data"
    }
   ],
   "source": [
    "## plotting the categories for marriage\n",
    "marriage_cats = spark_df.groupBy('MARRIAGE').count().collect()\n",
    "sns.barplot(x=bar_plot_values(0, marriage_cats), y=bar_plot_values(1, marriage_cats))\n",
    "plt.show()"
   ]
  },
  {
   "cell_type": "markdown",
   "metadata": {},
   "source": [
    "It looks like there are barely any of the categories of 0 and 5 categories. We can go ahead and throw them into the \"Other\" category since it's already operating as a catchall here. Similarly, the category \"0\" looks small, so let's throw it in with the \"Other\" values. You can do this by using a function called `when` from pyspark in conjunction with `withColumn` and `otherwise` "
   ]
  },
  {
   "cell_type": "code",
   "execution_count": 7,
   "metadata": {
    "ExecuteTime": {
     "end_time": "2019-12-03T07:07:59.757183Z",
     "start_time": "2019-12-03T07:07:59.658448Z"
    }
   },
   "outputs": [],
   "source": [
    "from pyspark.sql.functions import when\n",
    "\n",
    "## changing the values in the education column\n",
    "spark_df_2 = spark_df.withColumn('EDUCATION',\n",
    "                    when(spark_df.EDUCATION == '0','Other')\\\n",
    "                    .when(spark_df.EDUCATION == '5','Other')\\\n",
    "                    .when(spark_df.EDUCATION == '6','Other')\\\n",
    "                    .otherwise(spark_df['EDUCATION']))\n",
    "\n",
    "## changing the values in the marriage column\n",
    "spark_df_done = spark_df_2.withColumn('MARRIAGE',\n",
    "                    when(spark_df.MARRIAGE =='0','Other')\\\n",
    "                    .otherwise(spark_df['MARRIAGE']))"
   ]
  },
  {
   "cell_type": "code",
   "execution_count": 8,
   "metadata": {
    "ExecuteTime": {
     "end_time": "2019-12-03T07:07:59.923738Z",
     "start_time": "2019-12-03T07:07:59.759179Z"
    }
   },
   "outputs": [
    {
     "data": {
      "text/plain": [
       "Row(ID=2, LIMIT_BAL=120000.0, SEX='Female', EDUCATION='College', MARRIAGE='Single', AGE=26, PAY_0=-1, PAY_2=2, PAY_3=0, PAY_4=0, PAY_5=0, PAY_6=2, BILL_AMT1=2682.0, BILL_AMT2=1725.0, BILL_AMT3=2682.0, BILL_AMT4=3272.0, BILL_AMT5=3455.0, BILL_AMT6=3261.0, PAY_AMT1=0.0, PAY_AMT2=1000.0, PAY_AMT3=1000.0, PAY_AMT4=1000.0, PAY_AMT5=0.0, PAY_AMT6=2000.0, default=1)"
      ]
     },
     "execution_count": 8,
     "metadata": {},
     "output_type": "execute_result"
    }
   ],
   "source": [
    "spark_df_done.head()"
   ]
  },
  {
   "cell_type": "markdown",
   "metadata": {},
   "source": [
    "Now let's take a look at all the values contained in the categorical columns of the DataFrame."
   ]
  },
  {
   "cell_type": "code",
   "execution_count": 9,
   "metadata": {
    "ExecuteTime": {
     "end_time": "2019-12-03T07:08:01.435550Z",
     "start_time": "2019-12-03T07:07:59.924735Z"
    }
   },
   "outputs": [
    {
     "name": "stdout",
     "output_type": "stream",
     "text": [
      "Feature  SEX  has:  [Row(SEX='Female'), Row(SEX='Male')]\n",
      "Feature  EDUCATION  has:  [Row(EDUCATION='High School'), Row(EDUCATION='Other'), Row(EDUCATION='Graduate'), Row(EDUCATION='College')]\n",
      "Feature  MARRIAGE  has:  [Row(MARRIAGE='Other'), Row(MARRIAGE='Married'), Row(MARRIAGE='Single')]\n"
     ]
    }
   ],
   "source": [
    "for column , data_type in spark_df_done.dtypes:\n",
    "    if data_type =='string':\n",
    "        print('Feature ',column, ' has: ', spark_df_done.select(column).distinct().collect())"
   ]
  },
  {
   "cell_type": "markdown",
   "metadata": {},
   "source": [
    "Much better. Now, let's do a little more investigation into our target variable before diving into the machine learning aspect of this project."
   ]
  },
  {
   "cell_type": "markdown",
   "metadata": {},
   "source": [
    "##  EDA\n",
    "\n",
    "Let's first look at the overall distribution of class balance of the default and not default label to determine if there is a need for each one of the different things here. Create a barplot to compare the number of defaults vs. non-defaults. This will require using groupBy as well as an aggregation method."
   ]
  },
  {
   "cell_type": "code",
   "execution_count": 10,
   "metadata": {
    "ExecuteTime": {
     "end_time": "2019-12-03T07:08:02.083639Z",
     "start_time": "2019-12-03T07:08:01.436546Z"
    }
   },
   "outputs": [
    {
     "data": {
      "image/png": "[encoded data removed]",
      "text/plain": [
       "<Figure size 432x288 with 1 Axes>"
      ]
     },
     "metadata": {
      "needs_background": "light"
     },
     "output_type": "display_data"
    }
   ],
   "source": [
    "number_of_defaults = spark_df_done.groupBy('default').count().collect()\n",
    "default = [x[0] for x in number_of_defaults]\n",
    "num_defaults = [x[1] for x in number_of_defaults]\n",
    "ax = sns.barplot(default, num_defaults)"
   ]
  },
  {
   "cell_type": "markdown",
   "metadata": {},
   "source": [
    "Let's also visualize the difference in default rate between males and females in this dataset."
   ]
  },
  {
   "cell_type": "code",
   "execution_count": 11,
   "metadata": {
    "ExecuteTime": {
     "end_time": "2019-12-03T07:08:02.668472Z",
     "start_time": "2019-12-03T07:08:02.084636Z"
    }
   },
   "outputs": [
    {
     "data": {
      "text/plain": [
       "[Row(default=1, SEX='Female', count=3762),\n",
       " Row(default=0, SEX='Male', count=9015),\n",
       " Row(default=1, SEX='Male', count=2873),\n",
       " Row(default=0, SEX='Female', count=14349)]"
      ]
     },
     "execution_count": 11,
     "metadata": {},
     "output_type": "execute_result"
    }
   ],
   "source": [
    "# perform a groupby for default and sex\n",
    "results = spark_df_done.groupBy(['default', 'SEX']).count().collect()\n",
    "results"
   ]
  },
  {
   "cell_type": "code",
   "execution_count": 12,
   "metadata": {
    "ExecuteTime": {
     "end_time": "2019-12-03T07:08:02.673457Z",
     "start_time": "2019-12-03T07:08:02.669469Z"
    }
   },
   "outputs": [],
   "source": [
    "# make barplot for female and male default v no default rate\n",
    "female = [results[0],results[-1]]\n",
    "male = [results[1], results[2]]"
   ]
  },
  {
   "cell_type": "code",
   "execution_count": 13,
   "metadata": {
    "ExecuteTime": {
     "end_time": "2019-12-03T07:08:02.884893Z",
     "start_time": "2019-12-03T07:08:02.675453Z"
    }
   },
   "outputs": [
    {
     "data": {
      "text/plain": [
       "[Text(0, 0, 'No Default (0)'), Text(0, 0, 'Default (1)')]"
      ]
     },
     "execution_count": 13,
     "metadata": {},
     "output_type": "execute_result"
    },
    {
     "data": {
      "image/png": "[encoded data removed]",
      "text/plain": [
       "<Figure size 720x288 with 2 Axes>"
      ]
     },
     "metadata": {
      "needs_background": "light"
     },
     "output_type": "display_data"
    }
   ],
   "source": [
    "f, axes = plt.subplots(1,2)\n",
    "f.set_figwidth(10)\n",
    "sns.barplot(x=bar_plot_values(0,female),y=bar_plot_values(2,female), ax=axes[0])\n",
    "sns.barplot(x=bar_plot_values(0,male), y=bar_plot_values(2,male), ax=axes[1])\n",
    "axes[0].set_title('Female Default Rate')\n",
    "axes[1].set_title('Male Default Rate')\n",
    "axes[0].set_ylabel('Number of Defaults')\n",
    "axes[0].set_xticklabels(['No Default (0)','Default (1)'])\n",
    "axes[1].set_xticklabels(['No Default (0)','Default (1)'])"
   ]
  },
  {
   "cell_type": "markdown",
   "metadata": {},
   "source": [
    "It looks like males have an ever so slightly higher default rate than females."
   ]
  },
  {
   "cell_type": "markdown",
   "metadata": {},
   "source": [
    "## Onto the Machine Learning!"
   ]
  },
  {
   "cell_type": "markdown",
   "metadata": {},
   "source": [
    "Now, it's time to fit the data to the pyspark machine learning model pipeline.  You will need:\n",
    "\n",
    "* 3 StringIndexers (for each categorical feature)\n",
    "* A OneHotEncoderEstimator (to encode the newly indexed strings into categorical variables)\n",
    "* A VectorAssembler (to combine all features into one SparseVector)\n",
    "\n",
    "All of these initialized estimators should be stored in a list."
   ]
  },
  {
   "cell_type": "code",
   "execution_count": 14,
   "metadata": {
    "ExecuteTime": {
     "end_time": "2019-12-03T07:08:02.975274Z",
     "start_time": "2019-12-03T07:08:02.885890Z"
    }
   },
   "outputs": [
    {
     "name": "stdout",
     "output_type": "stream",
     "text": [
      "[StringIndexer_e09331a80a13, StringIndexer_a51f69d905ce, StringIndexer_9a9128983e53, OneHotEncoderEstimator_69c9aa429bfa, VectorAssembler_780c6a2b5c48]\n"
     ]
    }
   ],
   "source": [
    "# importing the necessary modules\n",
    "from pyspark.ml.feature import StringIndexer, OneHotEncoderEstimator, VectorAssembler, StringIndexerModel\n",
    "stages = []\n",
    "indexers = []\n",
    "\n",
    "# creating the string indexers\n",
    "for col in ['EDUCATION', 'SEX', 'MARRIAGE']:\n",
    "    indexers.append(StringIndexer(inputCol=col, outputCol=col+'_', handleInvalid='keep'))\n",
    "\n",
    "    \n",
    "input_columns = [indexer.getOutputCol() for indexer in indexers]\n",
    "\n",
    "one_hot_encoder = OneHotEncoderEstimator(inputCols=input_columns, \n",
    "                                         outputCols=[col + 'ohe' for col in input_columns],\n",
    "                                        dropLast=True)\n",
    "# features to be included in the model \n",
    "features = ['LIMIT_BAL','AGE','PAY_0','PAY_2','PAY_3',\n",
    "            'PAY_4','PAY_5','PAY_6', 'BILL_AMT1','BILL_AMT2',\n",
    "            'BILL_AMT3','BILL_AMT4','BILL_AMT5','BILL_AMT6']\n",
    "\n",
    "# adding the categorical features\n",
    "features.extend(one_hot_encoder.getOutputCols())\n",
    "\n",
    "# putting all of the features into a single vector\n",
    "vector_assembler = VectorAssembler(inputCols=features, outputCol='features')\n",
    "\n",
    "stages.extend(indexers)\n",
    "stages.extend([one_hot_encoder, vector_assembler])\n",
    "print(stages)"
   ]
  },
  {
   "cell_type": "markdown",
   "metadata": {},
   "source": [
    "Alright! Now let's see if that worked. Let's investigate how it transforms your dataset. Put all of the stages in a Pipeline and fit it to your data. Look at the features column. Did you obtain the number of features you expected?"
   ]
  },
  {
   "cell_type": "code",
   "execution_count": 15,
   "metadata": {
    "ExecuteTime": {
     "end_time": "2019-12-03T07:08:04.679291Z",
     "start_time": "2019-12-03T07:08:02.976272Z"
    }
   },
   "outputs": [
    {
     "data": {
      "text/plain": [
       "Row(features=SparseVector(23, {0: 120000.0, 1: 26.0, 2: -1.0, 3: 2.0, 7: 2.0, 8: 2682.0, 9: 1725.0, 10: 2682.0, 11: 3272.0, 12: 3455.0, 13: 3261.0, 14: 1.0, 18: 1.0, 20: 1.0}))"
      ]
     },
     "execution_count": 15,
     "metadata": {},
     "output_type": "execute_result"
    }
   ],
   "source": [
    "from pyspark.ml.pipeline import Pipeline\n",
    "pipe = Pipeline(stages=stages)\n",
    "data_transformer = pipe.fit(spark_df_done)\n",
    "transformed_data = data_transformer.transform(spark_df_done)\n",
    "p = transformed_data.select('features')\n",
    "p.head()\n",
    "\n",
    "# 17 numerical features and 6 categorical ones (the argument dropLast = True makes us have Sex, 3 Edu variables and 2 marriage)"
   ]
  },
  {
   "cell_type": "markdown",
   "metadata": {},
   "source": [
    "## Fitting Machine Learning Models\n",
    "That looks good! Now let's go ahead and fit data to different machine learning models. To evaluate these models, you should use the `BinaryClassificationEvaluator`. Below is an import of all the classes and libraries you'll need in the remainder of this lab."
   ]
  },
  {
   "cell_type": "code",
   "execution_count": 16,
   "metadata": {
    "ExecuteTime": {
     "end_time": "2019-12-03T07:08:04.684250Z",
     "start_time": "2019-12-03T07:08:04.680263Z"
    }
   },
   "outputs": [],
   "source": [
    "from pyspark.ml.classification import GBTClassifier, DecisionTreeClassifier, LogisticRegression, RandomForestClassifier\n",
    "from pyspark.ml.tuning import ParamGridBuilder, CrossValidator, TrainValidationSplit\n",
    "from pyspark.ml.evaluation import BinaryClassificationEvaluator\n",
    "import numpy as np"
   ]
  },
  {
   "cell_type": "markdown",
   "metadata": {},
   "source": [
    "### Logistic Regression\n",
    "\n",
    "First, we'll try with a simple Logistic Regression Model:\n",
    "\n",
    "* instantiate a logistic regression model\n",
    "* add it to the stages list\n",
    "* instantiate a new Pipeline estimator (not fit) with all of the stages\n",
    "* instantiate an `BinaryClassificationEvaluator`\n",
    "* create parameters to gridsearch through using `ParamGridBuilder`\n",
    "* Instantiate and fit a `CrossValidator` "
   ]
  },
  {
   "cell_type": "code",
   "execution_count": 17,
   "metadata": {
    "ExecuteTime": {
     "end_time": "2019-12-03T07:09:04.982115Z",
     "start_time": "2019-12-03T07:08:04.685248Z"
    }
   },
   "outputs": [],
   "source": [
    "lr = LogisticRegression(featuresCol='features',labelCol='default')\n",
    "p = Pipeline(stages=stages + [lr])\n",
    "evaluation = BinaryClassificationEvaluator(labelCol='default', metricName='areaUnderROC')\n",
    "\n",
    "lr_params = ParamGridBuilder().addGrid(lr.regParam,[0,0,0.2,0.5,1.0])\\\n",
    "                .addGrid(lr.standardization,[True,False])\\\n",
    "                .build()\n",
    "\n",
    "cv = CrossValidator(estimator=p, estimatorParamMaps=lr_params, evaluator=evaluation, parallelism=4)\n",
    "model = cv.fit(spark_df_done)"
   ]
  },
  {
   "cell_type": "markdown",
   "metadata": {},
   "source": [
    "Determine how well your model performed by looking at the evaluator metrics. If you tried multiple parameters, which performed best?"
   ]
  },
  {
   "cell_type": "code",
   "execution_count": 18,
   "metadata": {
    "ExecuteTime": {
     "end_time": "2019-12-03T07:09:04.988100Z",
     "start_time": "2019-12-03T07:09:04.983113Z"
    }
   },
   "outputs": [
    {
     "name": "stdout",
     "output_type": "stream",
     "text": [
      "0.7167504861341085 AUC\n",
      "best parameters :  {Param(parent='LogisticRegression_08c6b54453b8', name='regParam', doc='regularization parameter (>= 0).'): 0.0, Param(parent='LogisticRegression_08c6b54453b8', name='standardization', doc='whether to standardize the training features before fitting the model.'): True}\n"
     ]
    }
   ],
   "source": [
    "# print out the AUC of your best model as well as the parameters of your best model\n",
    "index_best_model = np.argmax(model.avgMetrics)\n",
    "print(model.avgMetrics[index_best_model],'AUC')\n",
    "print('best parameters : ',lr_params[index_best_model])"
   ]
  },
  {
   "cell_type": "markdown",
   "metadata": {},
   "source": [
    "#### Now try this again with other classifiers. Try and create a function that will allow you to easily test different models with different parameters. This function is optional, but it should allow for your code to be far more D.R.Y. The function should return the fitted cross-validated model as well as print out the performance metrics of the best performing model and the best parameters."
   ]
  },
  {
   "cell_type": "code",
   "execution_count": 19,
   "metadata": {
    "ExecuteTime": {
     "end_time": "2019-12-03T07:09:04.996590Z",
     "start_time": "2019-12-03T07:09:04.990607Z"
    }
   },
   "outputs": [],
   "source": [
    "# create function to cross validate models with different parameters\n",
    "def create_model(ml_model, preprocessing_stages, param_grid, parallel=4, \n",
    "                evaluation_metric = 'areaUnderROC', parafeaturesCol = 'features',\n",
    "                label = 'default'):\n",
    "    \n",
    "    stage_with_ml = preprocessing_stages + [ml_model]\n",
    "    pipe = Pipeline(stages = stage_with_ml)\n",
    "    \n",
    "    evaluation = BinaryClassificationEvaluator(labelCol=label, metricName=evaluation_metric)\n",
    "    model = CrossValidator(estimator = pipe,\n",
    "                          estimatorParamMaps=param_grid,\n",
    "                          evaluator = evaluation,\n",
    "                          parallelism = parallel).fit(spark_df_done)\n",
    "    \n",
    "    index_best_model = np.argmax(model.avgMetrics)\n",
    "    print('best performing model: ', model.avgMetrics[index_best_model],'AUC')\n",
    "    print('best parameters: ', param_grid[index_best_model])\n",
    "    return model"
   ]
  },
  {
   "cell_type": "markdown",
   "metadata": {},
   "source": [
    "Train a Random Forest classifier and determine the best performing model with the best parameters. This might take a while! Be smart about how you use parallelization here."
   ]
  },
  {
   "cell_type": "code",
   "execution_count": 20,
   "metadata": {
    "ExecuteTime": {
     "end_time": "2019-12-03T07:13:06.047021Z",
     "start_time": "2019-12-03T07:09:04.999584Z"
    }
   },
   "outputs": [
    {
     "name": "stdout",
     "output_type": "stream",
     "text": [
      "best performing model:  0.7799336898785096 AUC\n",
      "best parameters:  {Param(parent='RandomForestClassifier_68dc3e5b6690', name='maxDepth', doc='Maximum depth of the tree. (>= 0) E.g., depth 0 means 1 leaf node; depth 1 means 1 internal node + 2 leaf nodes.'): 10, Param(parent='RandomForestClassifier_68dc3e5b6690', name='numTrees', doc='Number of trees to train (>= 1).'): 200}\n"
     ]
    }
   ],
   "source": [
    "# code to train Random Forest Classifier\n",
    "# ⏰ This cell may take a long time to run\n",
    "rf = RandomForestClassifier(featuresCol='features',labelCol='default')\n",
    "rf_params = ParamGridBuilder()\\\n",
    ".addGrid(rf.maxDepth, [5,10])\\\n",
    ".addGrid(rf.numTrees, [20,50,100,200])\\\n",
    ".build()\n",
    "\n",
    "rf_model = create_model(rf,stages,rf_params)"
   ]
  },
  {
   "cell_type": "markdown",
   "metadata": {},
   "source": [
    "Now train a Gradient Boosting Classifier. **This might take a very long time depending on the number of parameters you are training**"
   ]
  },
  {
   "cell_type": "code",
   "execution_count": null,
   "metadata": {
    "ExecuteTime": {
     "start_time": "2019-12-03T07:07:32.363Z"
    }
   },
   "outputs": [],
   "source": [
    "# code to train Gradient Boosting Classifier\n",
    "# ⏰ This cell may take a long time to run\n",
    "gb = GBTClassifier(featuresCol='features',labelCol='default')\n",
    "param_gb = ParamGridBuilder().addGrid(gb.maxDepth,[1,5]).addGrid(gb.maxIter,[20,50,100]).build()\n",
    "\n",
    "gb_model = create_model(gb, stages, param_grid=param_gb, parallel=4)"
   ]
  },
  {
   "cell_type": "markdown",
   "metadata": {},
   "source": [
    "It looks like the optimal performing model is the Random Forest Classifier Model because it has the highest AUC!\n",
    "\n",
    "## Level Up\n",
    "\n",
    "* Create ROC curves for each of these models\n",
    "* Try the Multi-Layer Perceptron classifier algorithm. You will soon learn about what this means in the neural network section!"
   ]
  },
  {
   "cell_type": "markdown",
   "metadata": {},
   "source": [
    "## Summary\n",
    "\n",
    "If you've made it thus far, congratulations! Spark is an in-demand skill, but it is not particularly easy to master. In this lesson, you fit multiple different machine learning pipelines for a classification problem. If you want to boost your spark skills to the next level, connect to a distributed cluster using a service like AWS or Databricks and perform these Spark operations on the cloud."
   ]
  }
 ],
 "metadata": {
  "kernelspec": {
   "display_name": "Python 3",
   "language": "python",
   "name": "python3"
  },
  "language_info": {
   "codemirror_mode": {
    "name": "ipython",
    "version": 3
   },
   "file_extension": ".py",
   "mimetype": "text/x-python",
   "name": "python",
   "nbconvert_exporter": "python",
   "pygments_lexer": "ipython3",
   "version": "3.7.3"
  },
  "toc": {
   "base_numbering": 1,
   "nav_menu": {},
   "number_sections": true,
   "sideBar": true,
   "skip_h1_title": false,
   "title_cell": "Table of Contents",
   "title_sidebar": "Contents",
   "toc_cell": false,
   "toc_position": {},
   "toc_section_display": true,
   "toc_window_display": false
  },
  "varInspector": {
   "cols": {
    "lenName": 16,
    "lenType": 16,
    "lenVar": 40
   },
   "kernels_config": {
    "python": {
     "delete_cmd_postfix": "",
     "delete_cmd_prefix": "del ",
     "library": "var_list.py",
     "varRefreshCmd": "print(var_dic_list())"
    },
    "r": {
     "delete_cmd_postfix": ") ",
     "delete_cmd_prefix": "rm(",
     "library": "var_list.r",
     "varRefreshCmd": "cat(var_dic_list()) "
    }
   },
   "types_to_exclude": [
    "module",
    "function",
    "builtin_function_or_method",
    "instance",
    "_Feature"
   ],
   "window_display": false
  }
 },
 "nbformat": 4,
 "nbformat_minor": 2
}
