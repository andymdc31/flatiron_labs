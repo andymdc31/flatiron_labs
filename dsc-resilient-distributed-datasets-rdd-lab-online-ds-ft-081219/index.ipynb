{
 "cells": [
  {
   "cell_type": "markdown",
   "metadata": {},
   "source": [
    "## Resilient Distributed Datasets (RDDs) - Lab\n",
    "\n",
    "Resilient Distributed Datasets (RDD) are fundamental data structures of Spark. An RDD is, essentially, the Spark representation of a set of data, spread across multiple machines, with APIs to let you act on it. An RDD can come from any data source, e.g. text files, a database, a JSON file, etc.\n",
    "\n",
    "\n",
    "## Objectives\n",
    "\n",
    "You will be able to:\n",
    "\n",
    "* Describe RDDs as fundamental storage units in the Spark computing environment\n",
    "* Create RDDs from Python collections\n",
    "* Set number of partitions for parallelizing RDDs\n",
    "* Review an RDD's dependency graph at different stages of processing. \n",
    "* Apply the map(func) transformation to a given function on all elements of an RDD in different partitions\n",
    "* Use collect() action to trigger the processing stage of spark's lazy evaluation\n",
    "* Use count() action to calculate the number of elements of a parallelized RDD\n",
    "* Use filter(func) to filter unwanted data from RDDs\n",
    "* Develop an understanding of Python's lambda functions for RDDs processing\n"
   ]
  },
  {
   "cell_type": "markdown",
   "metadata": {},
   "source": [
    "## What are RDDs? \n",
    "\n",
    "To get a better understanding of RDDs, let's break down each one of the components of the acronym RDD:\n",
    "\n",
    "Resilient: RDDs are considered \"resilient\" because they have built-in fault tolerance. This means that even if one of the nodes goes offline, RDDs will be able to restore the data. This is already a huge advantage compared to standard storage. If a standard computer dies will performing an operation, all of its memory will be lost in the process. With RDDs, multiple nodes can go offline, and the action will still be held in working memory.\n",
    "\n",
    "Distributed: The data is contained on multiple nodes of a cluster-computing operation. It is efficiently partitioned to allow for parallelism.\n",
    "\n",
    "Dataset: The dataset has been * partitioned * across the multiple nodes. \n",
    "\n",
    "RDDs are the building block upon which more high-level Spark operations are based upon. Chances are, if you are performing an action using Spark, the operation involves RDDs. \n",
    "\n",
    "\n",
    "\n",
    "Key Characteristics of RDDs:\n",
    "\n",
    "- Immutable: Once an RDD is created, it cannot be modified.\n",
    "- Lazily Evaluated: RDDs will not be evaluated until an action is triggered. Essentially, when RDDs are created, they are programmed to perform some action, but that function will not get activated until it is explicitly called. The reason for lazy evaluation is that allows users to organize the actions of their Spark program into smaller actions. It also saves unnecessary computation and memory load.\n",
    "- In-Memory: The operations in Spark are performed in-memory rather than in the Database. This is what allows Spark to perform fast operations with very large quantities of data.\n",
    "\n",
    "\n"
   ]
  },
  {
   "cell_type": "markdown",
   "metadata": {},
   "source": [
    "### RDD Transformations vs Actions\n",
    "\n",
    "In Spark, we first create a __base RDD__ and then apply one or more transformations to that base RDD following our processing needs. Being immutable means, **once an RDD is created, it cannot be changed**. As a result, **each transformation of an RDD creates a new RDD**. Finally, we can apply one or more **actions** to the RDDs. Spark uses lazy evaluation, so transformations are not actually executed until an action occurs.\n",
    "\n",
    "\n",
    "<img src=\"./images/rdd_diagram.png\" width=500>"
   ]
  },
  {
   "cell_type": "markdown",
   "metadata": {},
   "source": [
    "### Transformations\n",
    "\n",
    "Transformations create a new data set from an existing one by passing each dataset element through a function and returning a new RDD representing the results. In short, creating an RDD from an existing RDD is ‘transformation’.\n",
    "All transformations in Spark are lazy. They do not compute their results right away. Instead, they just remember the transformations applied to some base data set (e.g. a file). The transformations are only computed when an action requires a result that needs to be returned to the driver program.\n",
    "A transformation is an RDD that returns another RDD, like map, flatMap, filter, reduceByKey, join, cogroup, etc.\n",
    "\n",
    "### Actions\n",
    "Actions return final results of RDD computations. Actions trigger execution using lineage graph to load the data into original RDD and carry out all intermediate transformations and return the final results to the Driver program or writes it out to the file system. An action returns a value (to a Spark driver - the user program).\n",
    "\n",
    "Here are some of key transformations and actions that we will explore.\n",
    "\n",
    "\n",
    "| Transformations   | Actions       |\n",
    "|-------------------|---------------|\n",
    "| map(func)         | reduce(func)  |\n",
    "| filter(func)      | collect()     |\n",
    "| groupByKey()      | count()       |\n",
    "| reduceByKey(func) | first()       |\n",
    "| mapValues(func)   | take()        |\n",
    "| sample()          | countByKey()  |\n",
    "| distinct()        | foreach(func) |\n",
    "| sortByKey()       |               |\n"
   ]
  },
  {
   "cell_type": "markdown",
   "metadata": {},
   "source": [
    "Let's see how transformations and actions work through a simple example. In this example, we will perform several actions and transformations on RDDs in order to obtain a better understanding of Spark processing. \n",
    "\n",
    "### Create a Python collection \n",
    "\n",
    "We need some data to start experimenting with RDDs. Let's create some sample data and see how RDDs handle it. To practice working with RDDs, we're going to use a simple Python list.\n",
    "\n",
    "- Create a Python list `data` of integers between 1 and 1000 using the `range()` function. \n",
    "- Sanity check: confirm the length of the list (it should be 1000)"
   ]
  },
  {
   "cell_type": "code",
   "execution_count": 1,
   "metadata": {
    "ExecuteTime": {
     "end_time": "2019-12-02T23:23:15.014941Z",
     "start_time": "2019-12-02T23:23:15.007959Z"
    }
   },
   "outputs": [
    {
     "data": {
      "text/plain": [
       "1000"
      ]
     },
     "execution_count": 1,
     "metadata": {},
     "output_type": "execute_result"
    }
   ],
   "source": [
    "data = list(range(1000))\n",
    "len(data)\n",
    "\n",
    "#1000"
   ]
  },
  {
   "cell_type": "markdown",
   "metadata": {},
   "source": [
    "### Initialize an RDD\n",
    "\n",
    "When using Spark to make computations, datasets are treated as lists of entries. Those lists are split into different partitions across different cores or different computers. Each list of data held in memory is a partition of the RDD. The reason why Spark is able to make computations far faster than other big data processing languages is that it allows all data to be stored __in-memory__, which allows for easy access to the data and, in turn, high-speed processing. Here is an example of how the alphabet might be split into different RDDs and held across a distributed collection of nodes:\n",
    "\n",
    "<img src =\"./images/partitions_1.png\" width =\"500\">  \n",
    "To initialize an RDD, first import `pyspark` and then create a SparkContext assigned to the variable `sc`. Use 'local[*]' as the master."
   ]
  },
  {
   "cell_type": "code",
   "execution_count": 2,
   "metadata": {
    "ExecuteTime": {
     "end_time": "2019-12-02T23:24:49.891032Z",
     "start_time": "2019-12-02T23:24:37.418612Z"
    }
   },
   "outputs": [],
   "source": [
    "import pyspark\n",
    "sc = pyspark.SparkContext('local[*]')"
   ]
  },
  {
   "cell_type": "markdown",
   "metadata": {},
   "source": [
    "Once you've created the SparkContext, you can use the `parallelize` method to create an rdd will distribute the list of numbers across multiple cores. Here, create one called `rdd` with 10 partitions using `data` as the collection you are parallelizing."
   ]
  },
  {
   "cell_type": "code",
   "execution_count": 3,
   "metadata": {
    "ExecuteTime": {
     "end_time": "2019-12-02T23:27:07.146432Z",
     "start_time": "2019-12-02T23:27:06.999798Z"
    }
   },
   "outputs": [
    {
     "name": "stdout",
     "output_type": "stream",
     "text": [
      "<class 'pyspark.rdd.RDD'>\n"
     ]
    }
   ],
   "source": [
    "rdd = sc.parallelize(data, 10)\n",
    "print(type(rdd))\n",
    "# <class 'pyspark.rdd.RDD'>"
   ]
  },
  {
   "cell_type": "markdown",
   "metadata": {},
   "source": [
    "Determine how many partitions are being used with this RDD with the getNumPartitions method."
   ]
  },
  {
   "cell_type": "code",
   "execution_count": 4,
   "metadata": {
    "ExecuteTime": {
     "end_time": "2019-12-02T23:27:13.963346Z",
     "start_time": "2019-12-02T23:27:13.952399Z"
    }
   },
   "outputs": [
    {
     "data": {
      "text/plain": [
       "10"
      ]
     },
     "execution_count": 4,
     "metadata": {},
     "output_type": "execute_result"
    }
   ],
   "source": [
    "rdd.getNumPartitions()\n",
    "# 10"
   ]
  },
  {
   "cell_type": "markdown",
   "metadata": {},
   "source": [
    "### Basic descriptive RDD actions\n",
    "\n",
    "Let's perform some basic operations on our RDD. In the cell below, use the methods:\n",
    "* `count`: returns the total count of items in the RDD \n",
    "* `first`: returns the first item in the RDD\n",
    "* `take`: returns the first n items in the RDD\n",
    "* `top`: returns the top n items\n",
    "* `collect`: returns everything from your RDD\n",
    "\n",
    "\n",
    "It's important to note that in a big data context, calling the collect method will often take a very long time to execute and should be handled with care!"
   ]
  },
  {
   "cell_type": "code",
   "execution_count": 6,
   "metadata": {
    "ExecuteTime": {
     "end_time": "2019-12-02T23:27:40.773135Z",
     "start_time": "2019-12-02T23:27:34.332456Z"
    },
    "scrolled": true
   },
   "outputs": [
    {
     "data": {
      "text/plain": [
       "1000"
      ]
     },
     "execution_count": 6,
     "metadata": {},
     "output_type": "execute_result"
    }
   ],
   "source": [
    "# count\n",
    "rdd.count()"
   ]
  },
  {
   "cell_type": "code",
   "execution_count": 7,
   "metadata": {
    "ExecuteTime": {
     "end_time": "2019-12-02T23:27:49.161142Z",
     "start_time": "2019-12-02T23:27:48.580774Z"
    }
   },
   "outputs": [
    {
     "data": {
      "text/plain": [
       "0"
      ]
     },
     "execution_count": 7,
     "metadata": {},
     "output_type": "execute_result"
    }
   ],
   "source": [
    "# first\n",
    "rdd.first()"
   ]
  },
  {
   "cell_type": "code",
   "execution_count": 9,
   "metadata": {
    "ExecuteTime": {
     "end_time": "2019-12-02T23:28:04.794169Z",
     "start_time": "2019-12-02T23:28:04.216865Z"
    }
   },
   "outputs": [
    {
     "data": {
      "text/plain": [
       "[0, 1, 2, 3, 4]"
      ]
     },
     "execution_count": 9,
     "metadata": {},
     "output_type": "execute_result"
    }
   ],
   "source": [
    "# take\n",
    "rdd.take(5)"
   ]
  },
  {
   "cell_type": "code",
   "execution_count": 10,
   "metadata": {
    "ExecuteTime": {
     "end_time": "2019-12-02T23:28:16.327178Z",
     "start_time": "2019-12-02T23:28:10.878516Z"
    }
   },
   "outputs": [
    {
     "data": {
      "text/plain": [
       "[999, 998, 997, 996, 995]"
      ]
     },
     "execution_count": 10,
     "metadata": {},
     "output_type": "execute_result"
    }
   ],
   "source": [
    "# top\n",
    "rdd.top(5)"
   ]
  },
  {
   "cell_type": "code",
   "execution_count": 11,
   "metadata": {
    "ExecuteTime": {
     "end_time": "2019-12-02T23:28:21.975530Z",
     "start_time": "2019-12-02T23:28:21.930623Z"
    },
    "scrolled": true
   },
   "outputs": [
    {
     "data": {
      "text/plain": [
       "[0,\n",
       " 1,\n",
       " 2,\n",
       " 3,\n",
       " 4,\n",
       " 5,\n",
       " 6,\n",
       " 7,\n",
       " 8,\n",
       " 9,\n",
       " 10,\n",
       " 11,\n",
       " 12,\n",
       " 13,\n",
       " 14,\n",
       " 15,\n",
       " 16,\n",
       " 17,\n",
       " 18,\n",
       " 19,\n",
       " 20,\n",
       " 21,\n",
       " 22,\n",
       " 23,\n",
       " 24,\n",
       " 25,\n",
       " 26,\n",
       " 27,\n",
       " 28,\n",
       " 29,\n",
       " 30,\n",
       " 31,\n",
       " 32,\n",
       " 33,\n",
       " 34,\n",
       " 35,\n",
       " 36,\n",
       " 37,\n",
       " 38,\n",
       " 39,\n",
       " 40,\n",
       " 41,\n",
       " 42,\n",
       " 43,\n",
       " 44,\n",
       " 45,\n",
       " 46,\n",
       " 47,\n",
       " 48,\n",
       " 49,\n",
       " 50,\n",
       " 51,\n",
       " 52,\n",
       " 53,\n",
       " 54,\n",
       " 55,\n",
       " 56,\n",
       " 57,\n",
       " 58,\n",
       " 59,\n",
       " 60,\n",
       " 61,\n",
       " 62,\n",
       " 63,\n",
       " 64,\n",
       " 65,\n",
       " 66,\n",
       " 67,\n",
       " 68,\n",
       " 69,\n",
       " 70,\n",
       " 71,\n",
       " 72,\n",
       " 73,\n",
       " 74,\n",
       " 75,\n",
       " 76,\n",
       " 77,\n",
       " 78,\n",
       " 79,\n",
       " 80,\n",
       " 81,\n",
       " 82,\n",
       " 83,\n",
       " 84,\n",
       " 85,\n",
       " 86,\n",
       " 87,\n",
       " 88,\n",
       " 89,\n",
       " 90,\n",
       " 91,\n",
       " 92,\n",
       " 93,\n",
       " 94,\n",
       " 95,\n",
       " 96,\n",
       " 97,\n",
       " 98,\n",
       " 99,\n",
       " 100,\n",
       " 101,\n",
       " 102,\n",
       " 103,\n",
       " 104,\n",
       " 105,\n",
       " 106,\n",
       " 107,\n",
       " 108,\n",
       " 109,\n",
       " 110,\n",
       " 111,\n",
       " 112,\n",
       " 113,\n",
       " 114,\n",
       " 115,\n",
       " 116,\n",
       " 117,\n",
       " 118,\n",
       " 119,\n",
       " 120,\n",
       " 121,\n",
       " 122,\n",
       " 123,\n",
       " 124,\n",
       " 125,\n",
       " 126,\n",
       " 127,\n",
       " 128,\n",
       " 129,\n",
       " 130,\n",
       " 131,\n",
       " 132,\n",
       " 133,\n",
       " 134,\n",
       " 135,\n",
       " 136,\n",
       " 137,\n",
       " 138,\n",
       " 139,\n",
       " 140,\n",
       " 141,\n",
       " 142,\n",
       " 143,\n",
       " 144,\n",
       " 145,\n",
       " 146,\n",
       " 147,\n",
       " 148,\n",
       " 149,\n",
       " 150,\n",
       " 151,\n",
       " 152,\n",
       " 153,\n",
       " 154,\n",
       " 155,\n",
       " 156,\n",
       " 157,\n",
       " 158,\n",
       " 159,\n",
       " 160,\n",
       " 161,\n",
       " 162,\n",
       " 163,\n",
       " 164,\n",
       " 165,\n",
       " 166,\n",
       " 167,\n",
       " 168,\n",
       " 169,\n",
       " 170,\n",
       " 171,\n",
       " 172,\n",
       " 173,\n",
       " 174,\n",
       " 175,\n",
       " 176,\n",
       " 177,\n",
       " 178,\n",
       " 179,\n",
       " 180,\n",
       " 181,\n",
       " 182,\n",
       " 183,\n",
       " 184,\n",
       " 185,\n",
       " 186,\n",
       " 187,\n",
       " 188,\n",
       " 189,\n",
       " 190,\n",
       " 191,\n",
       " 192,\n",
       " 193,\n",
       " 194,\n",
       " 195,\n",
       " 196,\n",
       " 197,\n",
       " 198,\n",
       " 199,\n",
       " 200,\n",
       " 201,\n",
       " 202,\n",
       " 203,\n",
       " 204,\n",
       " 205,\n",
       " 206,\n",
       " 207,\n",
       " 208,\n",
       " 209,\n",
       " 210,\n",
       " 211,\n",
       " 212,\n",
       " 213,\n",
       " 214,\n",
       " 215,\n",
       " 216,\n",
       " 217,\n",
       " 218,\n",
       " 219,\n",
       " 220,\n",
       " 221,\n",
       " 222,\n",
       " 223,\n",
       " 224,\n",
       " 225,\n",
       " 226,\n",
       " 227,\n",
       " 228,\n",
       " 229,\n",
       " 230,\n",
       " 231,\n",
       " 232,\n",
       " 233,\n",
       " 234,\n",
       " 235,\n",
       " 236,\n",
       " 237,\n",
       " 238,\n",
       " 239,\n",
       " 240,\n",
       " 241,\n",
       " 242,\n",
       " 243,\n",
       " 244,\n",
       " 245,\n",
       " 246,\n",
       " 247,\n",
       " 248,\n",
       " 249,\n",
       " 250,\n",
       " 251,\n",
       " 252,\n",
       " 253,\n",
       " 254,\n",
       " 255,\n",
       " 256,\n",
       " 257,\n",
       " 258,\n",
       " 259,\n",
       " 260,\n",
       " 261,\n",
       " 262,\n",
       " 263,\n",
       " 264,\n",
       " 265,\n",
       " 266,\n",
       " 267,\n",
       " 268,\n",
       " 269,\n",
       " 270,\n",
       " 271,\n",
       " 272,\n",
       " 273,\n",
       " 274,\n",
       " 275,\n",
       " 276,\n",
       " 277,\n",
       " 278,\n",
       " 279,\n",
       " 280,\n",
       " 281,\n",
       " 282,\n",
       " 283,\n",
       " 284,\n",
       " 285,\n",
       " 286,\n",
       " 287,\n",
       " 288,\n",
       " 289,\n",
       " 290,\n",
       " 291,\n",
       " 292,\n",
       " 293,\n",
       " 294,\n",
       " 295,\n",
       " 296,\n",
       " 297,\n",
       " 298,\n",
       " 299,\n",
       " 300,\n",
       " 301,\n",
       " 302,\n",
       " 303,\n",
       " 304,\n",
       " 305,\n",
       " 306,\n",
       " 307,\n",
       " 308,\n",
       " 309,\n",
       " 310,\n",
       " 311,\n",
       " 312,\n",
       " 313,\n",
       " 314,\n",
       " 315,\n",
       " 316,\n",
       " 317,\n",
       " 318,\n",
       " 319,\n",
       " 320,\n",
       " 321,\n",
       " 322,\n",
       " 323,\n",
       " 324,\n",
       " 325,\n",
       " 326,\n",
       " 327,\n",
       " 328,\n",
       " 329,\n",
       " 330,\n",
       " 331,\n",
       " 332,\n",
       " 333,\n",
       " 334,\n",
       " 335,\n",
       " 336,\n",
       " 337,\n",
       " 338,\n",
       " 339,\n",
       " 340,\n",
       " 341,\n",
       " 342,\n",
       " 343,\n",
       " 344,\n",
       " 345,\n",
       " 346,\n",
       " 347,\n",
       " 348,\n",
       " 349,\n",
       " 350,\n",
       " 351,\n",
       " 352,\n",
       " 353,\n",
       " 354,\n",
       " 355,\n",
       " 356,\n",
       " 357,\n",
       " 358,\n",
       " 359,\n",
       " 360,\n",
       " 361,\n",
       " 362,\n",
       " 363,\n",
       " 364,\n",
       " 365,\n",
       " 366,\n",
       " 367,\n",
       " 368,\n",
       " 369,\n",
       " 370,\n",
       " 371,\n",
       " 372,\n",
       " 373,\n",
       " 374,\n",
       " 375,\n",
       " 376,\n",
       " 377,\n",
       " 378,\n",
       " 379,\n",
       " 380,\n",
       " 381,\n",
       " 382,\n",
       " 383,\n",
       " 384,\n",
       " 385,\n",
       " 386,\n",
       " 387,\n",
       " 388,\n",
       " 389,\n",
       " 390,\n",
       " 391,\n",
       " 392,\n",
       " 393,\n",
       " 394,\n",
       " 395,\n",
       " 396,\n",
       " 397,\n",
       " 398,\n",
       " 399,\n",
       " 400,\n",
       " 401,\n",
       " 402,\n",
       " 403,\n",
       " 404,\n",
       " 405,\n",
       " 406,\n",
       " 407,\n",
       " 408,\n",
       " 409,\n",
       " 410,\n",
       " 411,\n",
       " 412,\n",
       " 413,\n",
       " 414,\n",
       " 415,\n",
       " 416,\n",
       " 417,\n",
       " 418,\n",
       " 419,\n",
       " 420,\n",
       " 421,\n",
       " 422,\n",
       " 423,\n",
       " 424,\n",
       " 425,\n",
       " 426,\n",
       " 427,\n",
       " 428,\n",
       " 429,\n",
       " 430,\n",
       " 431,\n",
       " 432,\n",
       " 433,\n",
       " 434,\n",
       " 435,\n",
       " 436,\n",
       " 437,\n",
       " 438,\n",
       " 439,\n",
       " 440,\n",
       " 441,\n",
       " 442,\n",
       " 443,\n",
       " 444,\n",
       " 445,\n",
       " 446,\n",
       " 447,\n",
       " 448,\n",
       " 449,\n",
       " 450,\n",
       " 451,\n",
       " 452,\n",
       " 453,\n",
       " 454,\n",
       " 455,\n",
       " 456,\n",
       " 457,\n",
       " 458,\n",
       " 459,\n",
       " 460,\n",
       " 461,\n",
       " 462,\n",
       " 463,\n",
       " 464,\n",
       " 465,\n",
       " 466,\n",
       " 467,\n",
       " 468,\n",
       " 469,\n",
       " 470,\n",
       " 471,\n",
       " 472,\n",
       " 473,\n",
       " 474,\n",
       " 475,\n",
       " 476,\n",
       " 477,\n",
       " 478,\n",
       " 479,\n",
       " 480,\n",
       " 481,\n",
       " 482,\n",
       " 483,\n",
       " 484,\n",
       " 485,\n",
       " 486,\n",
       " 487,\n",
       " 488,\n",
       " 489,\n",
       " 490,\n",
       " 491,\n",
       " 492,\n",
       " 493,\n",
       " 494,\n",
       " 495,\n",
       " 496,\n",
       " 497,\n",
       " 498,\n",
       " 499,\n",
       " 500,\n",
       " 501,\n",
       " 502,\n",
       " 503,\n",
       " 504,\n",
       " 505,\n",
       " 506,\n",
       " 507,\n",
       " 508,\n",
       " 509,\n",
       " 510,\n",
       " 511,\n",
       " 512,\n",
       " 513,\n",
       " 514,\n",
       " 515,\n",
       " 516,\n",
       " 517,\n",
       " 518,\n",
       " 519,\n",
       " 520,\n",
       " 521,\n",
       " 522,\n",
       " 523,\n",
       " 524,\n",
       " 525,\n",
       " 526,\n",
       " 527,\n",
       " 528,\n",
       " 529,\n",
       " 530,\n",
       " 531,\n",
       " 532,\n",
       " 533,\n",
       " 534,\n",
       " 535,\n",
       " 536,\n",
       " 537,\n",
       " 538,\n",
       " 539,\n",
       " 540,\n",
       " 541,\n",
       " 542,\n",
       " 543,\n",
       " 544,\n",
       " 545,\n",
       " 546,\n",
       " 547,\n",
       " 548,\n",
       " 549,\n",
       " 550,\n",
       " 551,\n",
       " 552,\n",
       " 553,\n",
       " 554,\n",
       " 555,\n",
       " 556,\n",
       " 557,\n",
       " 558,\n",
       " 559,\n",
       " 560,\n",
       " 561,\n",
       " 562,\n",
       " 563,\n",
       " 564,\n",
       " 565,\n",
       " 566,\n",
       " 567,\n",
       " 568,\n",
       " 569,\n",
       " 570,\n",
       " 571,\n",
       " 572,\n",
       " 573,\n",
       " 574,\n",
       " 575,\n",
       " 576,\n",
       " 577,\n",
       " 578,\n",
       " 579,\n",
       " 580,\n",
       " 581,\n",
       " 582,\n",
       " 583,\n",
       " 584,\n",
       " 585,\n",
       " 586,\n",
       " 587,\n",
       " 588,\n",
       " 589,\n",
       " 590,\n",
       " 591,\n",
       " 592,\n",
       " 593,\n",
       " 594,\n",
       " 595,\n",
       " 596,\n",
       " 597,\n",
       " 598,\n",
       " 599,\n",
       " 600,\n",
       " 601,\n",
       " 602,\n",
       " 603,\n",
       " 604,\n",
       " 605,\n",
       " 606,\n",
       " 607,\n",
       " 608,\n",
       " 609,\n",
       " 610,\n",
       " 611,\n",
       " 612,\n",
       " 613,\n",
       " 614,\n",
       " 615,\n",
       " 616,\n",
       " 617,\n",
       " 618,\n",
       " 619,\n",
       " 620,\n",
       " 621,\n",
       " 622,\n",
       " 623,\n",
       " 624,\n",
       " 625,\n",
       " 626,\n",
       " 627,\n",
       " 628,\n",
       " 629,\n",
       " 630,\n",
       " 631,\n",
       " 632,\n",
       " 633,\n",
       " 634,\n",
       " 635,\n",
       " 636,\n",
       " 637,\n",
       " 638,\n",
       " 639,\n",
       " 640,\n",
       " 641,\n",
       " 642,\n",
       " 643,\n",
       " 644,\n",
       " 645,\n",
       " 646,\n",
       " 647,\n",
       " 648,\n",
       " 649,\n",
       " 650,\n",
       " 651,\n",
       " 652,\n",
       " 653,\n",
       " 654,\n",
       " 655,\n",
       " 656,\n",
       " 657,\n",
       " 658,\n",
       " 659,\n",
       " 660,\n",
       " 661,\n",
       " 662,\n",
       " 663,\n",
       " 664,\n",
       " 665,\n",
       " 666,\n",
       " 667,\n",
       " 668,\n",
       " 669,\n",
       " 670,\n",
       " 671,\n",
       " 672,\n",
       " 673,\n",
       " 674,\n",
       " 675,\n",
       " 676,\n",
       " 677,\n",
       " 678,\n",
       " 679,\n",
       " 680,\n",
       " 681,\n",
       " 682,\n",
       " 683,\n",
       " 684,\n",
       " 685,\n",
       " 686,\n",
       " 687,\n",
       " 688,\n",
       " 689,\n",
       " 690,\n",
       " 691,\n",
       " 692,\n",
       " 693,\n",
       " 694,\n",
       " 695,\n",
       " 696,\n",
       " 697,\n",
       " 698,\n",
       " 699,\n",
       " 700,\n",
       " 701,\n",
       " 702,\n",
       " 703,\n",
       " 704,\n",
       " 705,\n",
       " 706,\n",
       " 707,\n",
       " 708,\n",
       " 709,\n",
       " 710,\n",
       " 711,\n",
       " 712,\n",
       " 713,\n",
       " 714,\n",
       " 715,\n",
       " 716,\n",
       " 717,\n",
       " 718,\n",
       " 719,\n",
       " 720,\n",
       " 721,\n",
       " 722,\n",
       " 723,\n",
       " 724,\n",
       " 725,\n",
       " 726,\n",
       " 727,\n",
       " 728,\n",
       " 729,\n",
       " 730,\n",
       " 731,\n",
       " 732,\n",
       " 733,\n",
       " 734,\n",
       " 735,\n",
       " 736,\n",
       " 737,\n",
       " 738,\n",
       " 739,\n",
       " 740,\n",
       " 741,\n",
       " 742,\n",
       " 743,\n",
       " 744,\n",
       " 745,\n",
       " 746,\n",
       " 747,\n",
       " 748,\n",
       " 749,\n",
       " 750,\n",
       " 751,\n",
       " 752,\n",
       " 753,\n",
       " 754,\n",
       " 755,\n",
       " 756,\n",
       " 757,\n",
       " 758,\n",
       " 759,\n",
       " 760,\n",
       " 761,\n",
       " 762,\n",
       " 763,\n",
       " 764,\n",
       " 765,\n",
       " 766,\n",
       " 767,\n",
       " 768,\n",
       " 769,\n",
       " 770,\n",
       " 771,\n",
       " 772,\n",
       " 773,\n",
       " 774,\n",
       " 775,\n",
       " 776,\n",
       " 777,\n",
       " 778,\n",
       " 779,\n",
       " 780,\n",
       " 781,\n",
       " 782,\n",
       " 783,\n",
       " 784,\n",
       " 785,\n",
       " 786,\n",
       " 787,\n",
       " 788,\n",
       " 789,\n",
       " 790,\n",
       " 791,\n",
       " 792,\n",
       " 793,\n",
       " 794,\n",
       " 795,\n",
       " 796,\n",
       " 797,\n",
       " 798,\n",
       " 799,\n",
       " 800,\n",
       " 801,\n",
       " 802,\n",
       " 803,\n",
       " 804,\n",
       " 805,\n",
       " 806,\n",
       " 807,\n",
       " 808,\n",
       " 809,\n",
       " 810,\n",
       " 811,\n",
       " 812,\n",
       " 813,\n",
       " 814,\n",
       " 815,\n",
       " 816,\n",
       " 817,\n",
       " 818,\n",
       " 819,\n",
       " 820,\n",
       " 821,\n",
       " 822,\n",
       " 823,\n",
       " 824,\n",
       " 825,\n",
       " 826,\n",
       " 827,\n",
       " 828,\n",
       " 829,\n",
       " 830,\n",
       " 831,\n",
       " 832,\n",
       " 833,\n",
       " 834,\n",
       " 835,\n",
       " 836,\n",
       " 837,\n",
       " 838,\n",
       " 839,\n",
       " 840,\n",
       " 841,\n",
       " 842,\n",
       " 843,\n",
       " 844,\n",
       " 845,\n",
       " 846,\n",
       " 847,\n",
       " 848,\n",
       " 849,\n",
       " 850,\n",
       " 851,\n",
       " 852,\n",
       " 853,\n",
       " 854,\n",
       " 855,\n",
       " 856,\n",
       " 857,\n",
       " 858,\n",
       " 859,\n",
       " 860,\n",
       " 861,\n",
       " 862,\n",
       " 863,\n",
       " 864,\n",
       " 865,\n",
       " 866,\n",
       " 867,\n",
       " 868,\n",
       " 869,\n",
       " 870,\n",
       " 871,\n",
       " 872,\n",
       " 873,\n",
       " 874,\n",
       " 875,\n",
       " 876,\n",
       " 877,\n",
       " 878,\n",
       " 879,\n",
       " 880,\n",
       " 881,\n",
       " 882,\n",
       " 883,\n",
       " 884,\n",
       " 885,\n",
       " 886,\n",
       " 887,\n",
       " 888,\n",
       " 889,\n",
       " 890,\n",
       " 891,\n",
       " 892,\n",
       " 893,\n",
       " 894,\n",
       " 895,\n",
       " 896,\n",
       " 897,\n",
       " 898,\n",
       " 899,\n",
       " 900,\n",
       " 901,\n",
       " 902,\n",
       " 903,\n",
       " 904,\n",
       " 905,\n",
       " 906,\n",
       " 907,\n",
       " 908,\n",
       " 909,\n",
       " 910,\n",
       " 911,\n",
       " 912,\n",
       " 913,\n",
       " 914,\n",
       " 915,\n",
       " 916,\n",
       " 917,\n",
       " 918,\n",
       " 919,\n",
       " 920,\n",
       " 921,\n",
       " 922,\n",
       " 923,\n",
       " 924,\n",
       " 925,\n",
       " 926,\n",
       " 927,\n",
       " 928,\n",
       " 929,\n",
       " 930,\n",
       " 931,\n",
       " 932,\n",
       " 933,\n",
       " 934,\n",
       " 935,\n",
       " 936,\n",
       " 937,\n",
       " 938,\n",
       " 939,\n",
       " 940,\n",
       " 941,\n",
       " 942,\n",
       " 943,\n",
       " 944,\n",
       " 945,\n",
       " 946,\n",
       " 947,\n",
       " 948,\n",
       " 949,\n",
       " 950,\n",
       " 951,\n",
       " 952,\n",
       " 953,\n",
       " 954,\n",
       " 955,\n",
       " 956,\n",
       " 957,\n",
       " 958,\n",
       " 959,\n",
       " 960,\n",
       " 961,\n",
       " 962,\n",
       " 963,\n",
       " 964,\n",
       " 965,\n",
       " 966,\n",
       " 967,\n",
       " 968,\n",
       " 969,\n",
       " 970,\n",
       " 971,\n",
       " 972,\n",
       " 973,\n",
       " 974,\n",
       " 975,\n",
       " 976,\n",
       " 977,\n",
       " 978,\n",
       " 979,\n",
       " 980,\n",
       " 981,\n",
       " 982,\n",
       " 983,\n",
       " 984,\n",
       " 985,\n",
       " 986,\n",
       " 987,\n",
       " 988,\n",
       " 989,\n",
       " 990,\n",
       " 991,\n",
       " 992,\n",
       " 993,\n",
       " 994,\n",
       " 995,\n",
       " 996,\n",
       " 997,\n",
       " 998,\n",
       " 999]"
      ]
     },
     "execution_count": 11,
     "metadata": {},
     "output_type": "execute_result"
    }
   ],
   "source": [
    "# collect\n",
    "rdd.collect()"
   ]
  },
  {
   "cell_type": "markdown",
   "metadata": {},
   "source": [
    "## Map functions\n",
    "\n",
    "Now that you've been working a little bit with RDDs, let's make this a little more interesting. Imagine you're running a hot new e-commerce startup called BuyStuff, and you're trying to track of how much it charges customers from each item sold. In the next cell, we're going to create simulated data by multiplying the values 1-1000 be a random number from 0-1."
   ]
  },
  {
   "cell_type": "code",
   "execution_count": 12,
   "metadata": {
    "ExecuteTime": {
     "end_time": "2019-12-02T23:28:47.671849Z",
     "start_time": "2019-12-02T23:28:47.656886Z"
    }
   },
   "outputs": [
    {
     "data": {
      "text/plain": [
       "array([3.94551635e-01, 1.15226138e+00, 6.72373438e-01, 3.02181752e+00,\n",
       "       2.90454568e+00, 8.41560304e-01, 3.58590875e+00, 2.58858848e+00,\n",
       "       2.87573592e+00, 5.47465054e+00, 5.79401243e+00, 9.32644700e+00,\n",
       "       5.31932890e+00, 6.83422150e+00, 1.19535024e+01, 5.64605978e+00,\n",
       "       7.37919785e+00, 1.48289895e+01, 9.19067150e+00, 3.99985384e+00,\n",
       "       1.34438034e+01, 1.70790428e+01, 1.19885582e+01, 3.90468717e-01,\n",
       "       1.41045538e+00, 2.11980101e+01, 1.85375112e+01, 1.24957726e+00,\n",
       "       1.55728311e+01, 6.80167177e+00, 1.98361828e+01, 3.04401081e+00,\n",
       "       1.82492370e+01, 3.33921908e+01, 3.24937662e+01, 1.46045885e+01,\n",
       "       6.18980611e+00, 3.13061655e+01, 8.37743363e+00, 3.16482804e+01,\n",
       "       1.44234973e+01, 5.68129425e+00, 1.57502058e+00, 2.56607226e+01,\n",
       "       4.98603423e+00, 3.78236047e+00, 1.74130758e+01, 6.48053016e+00,\n",
       "       1.71903547e+01, 6.84202671e+00, 2.77115654e+01, 7.64180348e-02,\n",
       "       3.54950717e+00, 6.29450022e+00, 4.80909295e+01, 1.27931030e+01,\n",
       "       2.25803055e+01, 5.31184436e+01, 3.75316180e+01, 4.33853898e+01,\n",
       "       3.39057303e+01, 1.14200834e+01, 2.85958743e+01, 4.74426920e+01,\n",
       "       4.34240737e+00, 1.82344828e+01, 2.72487752e+01, 4.16081001e+01,\n",
       "       4.07303002e+01, 6.01880715e+01, 3.18985063e+01, 1.61571229e+01,\n",
       "       2.03609601e+01, 1.32640632e+01, 4.09863101e+01, 6.48784170e+01,\n",
       "       5.66657392e-01, 1.78062108e+01, 3.21090722e+01, 1.44537345e+01,\n",
       "       5.73743878e+01, 3.38272233e+01, 7.19643952e+01, 3.48610688e+00,\n",
       "       5.55896579e+00, 5.03992310e+01, 2.58643721e+01, 8.00590093e+01,\n",
       "       7.54197915e+01, 7.25731855e+00, 5.15875458e+01, 6.09606180e+01,\n",
       "       8.66324000e+01, 8.84584220e+01, 8.43897921e+01, 4.84886204e+00,\n",
       "       5.29119031e+01, 4.66972296e+01, 4.47094349e+01, 5.66002870e+01,\n",
       "       6.77950339e+01, 7.48234744e+01, 3.54867663e+01, 8.58811834e+01,\n",
       "       2.14856856e+01, 2.06330116e+01, 4.99677939e+01, 7.77970210e+00,\n",
       "       3.53598596e+01, 6.60706870e+01, 1.71765073e+01, 4.29884402e+01,\n",
       "       3.85756287e+01, 4.12961293e+01, 1.07893769e+02, 8.74411628e+01,\n",
       "       1.05187101e+02, 7.00844107e+01, 7.65160968e+01, 5.89809587e+01,\n",
       "       7.77991581e+01, 4.16470954e+01, 6.22704299e+01, 1.12756694e+02,\n",
       "       5.96528739e+01, 1.21134737e+02, 1.17293839e+02, 6.28030440e+01,\n",
       "       3.44835439e+01, 5.29121761e+01, 6.06716907e+01, 1.05032184e+02,\n",
       "       1.29163375e+02, 6.19888581e+01, 6.84049121e+01, 3.27585677e+01,\n",
       "       6.56182973e+01, 7.44731386e+01, 5.29609977e+01, 7.47886436e+01,\n",
       "       7.15946763e+00, 9.22895070e+00, 6.69326427e+01, 7.19057203e+01,\n",
       "       9.35633721e+01, 1.26390925e+02, 8.82811555e+01, 7.96972882e+01,\n",
       "       1.27418741e+02, 4.58770523e+01, 8.26342247e+01, 1.32200335e+02,\n",
       "       1.17280485e+02, 1.31119099e+02, 1.30345536e+01, 9.70844606e+01,\n",
       "       4.33414316e+01, 6.46916465e+01, 1.29036798e+02, 1.16459893e+02,\n",
       "       3.95965284e+01, 7.39808092e+01, 3.53317103e+01, 7.88824633e+00,\n",
       "       4.40010602e+01, 1.41302829e+02, 1.59966933e+02, 1.39255537e+02,\n",
       "       5.29728005e+01, 2.16017286e+01, 4.82775170e+01, 4.08439310e+00,\n",
       "       3.54404241e+01, 7.37173208e+01, 1.22906186e+02, 1.86643049e+01,\n",
       "       7.07103716e+01, 6.46993703e+01, 1.21134791e+02, 2.94672530e+01,\n",
       "       1.05725997e+02, 1.17924132e+02, 1.49498480e+02, 1.04638296e+02,\n",
       "       7.38457257e+01, 1.03456758e+02, 6.89531763e+01, 4.06027369e+01,\n",
       "       1.65142987e+02, 1.65280922e+02, 8.54859395e+01, 1.13018881e+02,\n",
       "       1.59122347e+02, 5.55383664e+01, 5.07633976e+01, 1.26753534e+02,\n",
       "       4.20838172e+01, 1.70927553e+02, 1.98911214e+01, 1.08962249e+02,\n",
       "       1.67054192e+02, 1.27629954e+02, 5.40594192e+01, 1.05376194e+02,\n",
       "       1.71786259e+02, 5.95296622e+01, 1.23488732e+02, 1.03868058e+02,\n",
       "       1.87129652e+02, 8.43521953e+01, 1.78256350e+02, 6.01300301e+01,\n",
       "       1.91809497e+01, 2.11508120e+02, 8.14376250e+01, 1.95545326e+02,\n",
       "       4.83369935e+01, 1.39181182e+02, 1.27680064e+02, 1.71471158e+02,\n",
       "       1.54292793e+02, 2.12488874e+02, 1.44577161e+01, 3.48704197e+01,\n",
       "       2.71119522e+01, 2.04750795e+02, 1.29588401e+02, 1.82023852e+01,\n",
       "       5.26709023e+01, 2.86872123e+01, 2.79549583e+01, 6.23195385e+00,\n",
       "       2.03109747e+02, 2.46957461e+01, 1.27486667e+02, 7.20900714e+01,\n",
       "       2.10994216e+02, 1.77007080e+02, 2.38446902e+02, 8.15381227e+01,\n",
       "       3.02846206e+01, 1.53041732e+02, 9.48703917e+01, 7.15452409e+00,\n",
       "       1.55752648e+02, 2.30682119e+02, 1.72012118e+02, 3.64798821e+01,\n",
       "       2.33933558e+02, 1.88453578e+02, 2.21963806e+01, 4.14258148e+01,\n",
       "       7.83352788e+01, 4.49049926e+01, 2.51269706e+02, 1.21288132e+02,\n",
       "       1.33495809e+02, 6.88948701e+01, 7.90835933e+01, 9.79920879e+00,\n",
       "       8.23164923e+01, 7.11364230e+01, 2.13666435e+02, 6.20204527e+01,\n",
       "       1.04257611e+02, 2.57467491e+02, 2.37589011e+02, 2.04747907e+02,\n",
       "       9.52607321e+01, 4.49683446e+01, 1.05515922e+02, 1.67494162e+02,\n",
       "       2.02591004e+01, 1.44931004e+02, 1.01622084e+02, 1.55618021e+02,\n",
       "       2.27136813e+02, 1.72553313e+02, 2.17176693e+02, 1.29054214e+01,\n",
       "       2.75870552e+02, 1.56463471e+02, 2.09367886e+02, 2.73419843e+02,\n",
       "       1.99823935e+02, 6.26620068e+01, 1.79374221e+02, 1.34394266e+02,\n",
       "       8.64837456e+01, 2.10937053e+02, 2.08954562e+02, 1.27845462e+02,\n",
       "       2.28945885e+02, 2.19049057e+02, 1.64022608e+02, 1.31098202e+02,\n",
       "       8.61620831e+01, 1.45196027e+02, 2.28990348e+02, 2.80761486e+02,\n",
       "       1.14323940e+01, 8.50643487e+01, 1.68509495e+01, 8.00663621e+01,\n",
       "       2.87590998e+02, 2.16047391e+02, 1.48329520e+02, 3.07193727e+02,\n",
       "       2.04703167e+02, 2.81401325e+02, 3.73351475e+01, 1.39917108e+02,\n",
       "       2.94515841e+02, 2.54402832e+02, 4.96744255e+01, 2.43548299e+02,\n",
       "       1.81989445e+02, 1.24944968e+02, 2.38950717e+02, 1.96371035e+02,\n",
       "       6.81727923e+00, 1.60047591e+02, 2.31134451e+02, 2.84483115e+02,\n",
       "       1.64327187e+02, 2.46220278e+02, 2.54609141e+02, 3.14418448e+02,\n",
       "       8.45311382e+01, 2.16067854e+02, 1.90663691e+02, 3.03568618e+02,\n",
       "       2.08863642e+02, 2.10130308e+02, 2.48676027e+02, 2.91690788e+02,\n",
       "       4.41141968e+01, 1.57671096e+02, 3.54583114e-01, 1.01418161e+02,\n",
       "       1.65422464e+02, 2.99848060e+02, 2.46562640e+02, 2.43849608e+02,\n",
       "       1.50562212e+02, 2.32280410e+02, 6.16794141e+01, 4.77626164e+01,\n",
       "       6.44190237e+01, 1.02690015e+02, 5.18571106e+01, 2.69312172e+01,\n",
       "       1.06894089e+02, 2.44125403e+02, 3.28414766e+02, 1.59283940e+02,\n",
       "       2.39840859e+02, 1.55976828e+02, 2.67232292e+02, 1.55106411e+02,\n",
       "       3.51483658e+02, 7.56979952e+01, 2.42448056e+02, 3.49075771e+02,\n",
       "       1.73362004e+02, 2.89946990e+02, 9.05065260e+01, 3.43783935e+02,\n",
       "       1.92790265e+02, 2.81678141e+02, 2.75940949e+02, 5.81805364e+01,\n",
       "       1.13689154e+02, 3.16004946e+02, 2.34938146e+02, 2.97177955e+02,\n",
       "       2.39413971e+02, 2.83988852e+01, 9.81798607e+01, 5.94118610e+01,\n",
       "       2.21232044e+02, 3.38642247e+02, 2.68949078e+02, 3.76641748e+02,\n",
       "       1.50406594e+02, 1.84311630e+02, 9.06721392e+01, 1.29901536e+02,\n",
       "       3.99220028e+01, 3.82405571e+02, 2.12224135e+02, 4.52553577e+01,\n",
       "       1.13341155e+02, 2.30862080e+02, 6.70008747e+01, 2.39337713e+02,\n",
       "       2.89481225e+02, 9.37885799e+01, 1.25605393e+02, 3.01894230e+02,\n",
       "       1.52900917e+02, 3.33837838e+02, 4.62747760e+01, 1.82628314e+02,\n",
       "       3.09090943e+01, 1.01593094e+02, 4.83373165e+01, 4.10186829e+01,\n",
       "       3.68542527e+02, 3.42387110e+02, 3.92854535e+02, 3.48127038e+02,\n",
       "       1.04935411e+02, 6.04393285e+01, 3.95743342e+02, 1.53866358e+02,\n",
       "       2.56520905e+02, 1.31009894e+02, 3.79895284e+01, 5.36420249e+01,\n",
       "       3.79596355e+02, 3.68618194e+02, 3.39470806e+02, 8.03104249e+01,\n",
       "       3.16735796e+02, 3.91339634e+02, 1.71513407e+02, 9.80530399e+01,\n",
       "       1.62808456e+02, 3.37534134e+02, 4.17706493e+00, 1.02843885e+02,\n",
       "       1.21566757e+02, 2.63063240e+02, 1.21221956e+01, 2.74800781e+02,\n",
       "       5.94889262e+01, 2.06641932e+02, 9.98022011e+01, 2.47939259e+02,\n",
       "       1.91159236e+02, 2.08924009e+02, 3.17924885e+02, 3.25875515e+02,\n",
       "       5.94015565e+01, 3.76808158e+02, 3.32042660e+01, 4.40622594e+02,\n",
       "       3.49320971e+02, 2.20724303e+02, 2.50402581e+02, 3.13411025e+02,\n",
       "       3.92520422e+01, 1.92740289e+02, 1.91160469e+02, 1.89022760e+02,\n",
       "       1.14445452e+02, 4.18072501e+02, 3.62705434e+02, 2.22457325e+02,\n",
       "       1.64694383e+01, 2.99422974e+02, 4.30989226e+02, 6.67869326e+01,\n",
       "       4.60104558e+01, 3.01539449e+02, 4.45178530e+02, 1.82974492e+02,\n",
       "       2.19296830e+02, 2.09638887e+02, 1.46896211e+02, 3.05789050e+02,\n",
       "       4.26784680e+02, 1.01976795e+02, 3.64177030e+02, 2.58251421e+02,\n",
       "       1.75706537e+02, 1.05231146e+02, 2.66168496e+02, 4.49959663e+02,\n",
       "       4.14227875e+02, 1.21832576e+02, 1.35342576e+02, 4.60785087e+02,\n",
       "       4.58685993e+02, 1.51368904e+02, 2.93527363e+02, 3.59272548e+02,\n",
       "       4.73464960e+02, 6.90274204e+01, 1.98963631e+02, 3.70582163e+02,\n",
       "       2.54476040e+02, 2.95304511e+02, 4.07771688e+02, 4.22432138e+01,\n",
       "       1.13910229e+02, 1.07334179e+02, 4.85685692e+02, 4.90786976e+02,\n",
       "       1.68855234e+02, 1.95203098e+02, 4.02220597e+01, 2.63724640e+02,\n",
       "       3.45460021e+01, 2.28507595e+02, 2.61732896e+02, 3.79844006e+02,\n",
       "       1.64583966e+02, 1.09928896e+02, 7.25585947e+01, 1.57611882e+01,\n",
       "       2.91256935e+02, 1.56373385e+02, 4.49757827e+01, 3.82899809e+02,\n",
       "       1.91235612e+02, 4.06451441e+01, 3.19354033e+02, 2.19710163e+02,\n",
       "       3.05844314e+02, 1.18292868e+02, 1.68306594e+02, 5.78905016e+01,\n",
       "       2.76575037e+02, 3.04304416e+02, 2.29043827e+02, 4.18607856e+01,\n",
       "       4.64394805e+02, 2.62761270e+02, 4.60370553e+02, 3.41935085e+02,\n",
       "       1.62945791e+02, 1.36950287e+02, 4.74538179e+02, 2.70083477e+01,\n",
       "       2.72792829e+02, 5.20291113e+02, 4.98296104e+02, 5.36109046e+02,\n",
       "       3.64333096e+02, 1.93910345e+02, 2.76944670e+02, 4.15009920e+02,\n",
       "       1.03333312e+02, 3.68819635e+02, 3.15182940e+02, 2.11798007e+02,\n",
       "       4.68847203e+02, 2.21876376e+02, 1.99043386e+02, 2.10662487e+02,\n",
       "       1.75215698e+02, 4.15920993e+02, 4.24318204e+02, 5.28135946e+02,\n",
       "       5.44309466e+02, 1.16192669e+02, 1.84513967e+02, 1.14037105e+02,\n",
       "       3.33723715e+02, 4.60642485e+02, 4.41899325e+02, 2.95705871e+02,\n",
       "       5.10556508e+01, 1.47426269e+02, 1.14729141e+02, 2.25480507e+02,\n",
       "       1.28062884e+02, 5.32613424e+01, 4.43796999e+02, 4.50181572e+02,\n",
       "       2.41060552e+01, 1.59126194e+02, 1.01815474e+02, 2.16726528e+02,\n",
       "       2.16779215e+02, 2.23241708e+02, 4.17893088e+02, 4.98669474e+02,\n",
       "       1.62015889e+02, 3.81432225e+02, 4.65414364e+02, 4.12856897e+02,\n",
       "       3.53494229e+02, 9.57357039e+01, 4.25629045e+02, 3.06446499e+02,\n",
       "       2.48500592e+02, 2.45090080e+02, 2.32882541e+02, 8.95777259e+00,\n",
       "       2.34912203e+02, 4.07643780e+02, 2.46817984e+02, 7.25559651e+01,\n",
       "       1.49491877e+02, 5.17478217e+02, 2.30843925e+02, 2.15689071e+02,\n",
       "       3.69123212e+02, 1.09875997e+02, 4.98425179e+02, 1.34461568e+02,\n",
       "       7.08329998e+01, 1.77206035e+02, 3.16621361e+02, 2.60804816e+02,\n",
       "       3.64107563e+02, 2.24210644e+02, 2.38056092e+02, 3.58850423e+02,\n",
       "       4.39035545e+02, 2.49461895e+02, 9.37215481e+01, 2.17856588e+01,\n",
       "       3.53159434e+02, 4.06835397e+02, 3.47238327e+02, 5.22049612e+02,\n",
       "       6.82131180e+01, 3.03575547e+02, 4.39577938e+02, 5.22548972e+02,\n",
       "       3.52315229e+02, 5.52033626e+02, 1.25380166e+02, 6.68401846e+00,\n",
       "       5.68556606e+02, 3.93981293e+02, 5.69066433e+02, 9.14496041e+01,\n",
       "       2.85634403e+02, 4.51962066e+02, 1.66344787e+02, 1.00074145e+02,\n",
       "       5.35870446e+02, 1.66629083e+02, 2.53314325e+02, 2.46489220e+02,\n",
       "       3.51880041e+02, 5.06206761e+02, 3.21425668e+02, 2.36155784e+02,\n",
       "       5.64626434e+02, 6.16565031e+02, 9.50631057e+01, 3.25491563e+02,\n",
       "       1.20949787e+01, 3.41751765e+02, 5.71448601e+02, 4.95938496e+02,\n",
       "       3.65120002e+00, 5.47322106e+01, 1.13571287e+02, 1.58479378e+02,\n",
       "       6.26098427e+02, 6.01341251e+02, 2.81495698e+01, 4.78784168e+02,\n",
       "       4.56348407e+02, 4.58006437e+02, 6.37690115e+02, 2.89217833e+02,\n",
       "       3.29448375e+02, 2.80566979e+02, 8.80624096e+01, 2.17986933e+02,\n",
       "       9.74990587e+00, 3.58010663e+02, 2.59581494e+02, 1.21626789e+02,\n",
       "       6.45889505e+01, 4.53022636e+02, 3.21156524e+02, 4.77358293e+02,\n",
       "       4.96705889e+02, 6.49758778e+02, 5.55869868e+02, 6.05230182e+02,\n",
       "       3.27646543e+01, 5.74172262e+02, 5.77762404e+02, 2.40619628e+02,\n",
       "       4.95878456e+02, 6.69442887e+02, 3.64318643e+01, 9.10035657e+01,\n",
       "       3.54081622e+02, 4.42051783e+02, 4.68329321e+02, 3.54477267e+02,\n",
       "       6.63076484e+01, 4.18588950e+02, 4.27163219e+02, 9.50353389e+01,\n",
       "       3.82952755e+02, 4.54668809e+02, 2.25525688e+02, 6.77354739e+02,\n",
       "       4.45475572e+02, 5.80899492e+02, 6.40852475e+02, 6.71092743e+02,\n",
       "       6.48663999e+02, 1.89557431e+02, 6.33206140e+02, 1.65188663e+02,\n",
       "       6.04273571e+02, 6.18645039e+02, 7.07267057e+01, 4.69244998e+01,\n",
       "       1.81475225e+02, 5.21592673e+02, 1.74578623e+02, 2.72664450e+01,\n",
       "       2.22956617e+02, 9.44489319e+01, 2.36879419e+02, 1.64125257e+02,\n",
       "       5.88390391e+02, 4.54983529e+02, 1.74954740e+02, 8.19168477e+01,\n",
       "       3.18442670e+02, 2.55732309e+02, 5.84300186e+02, 3.29387381e+02,\n",
       "       1.30298064e+02, 6.58881909e+02, 9.40642859e+01, 5.47144056e+02,\n",
       "       1.22530074e+02, 6.46169458e+02, 5.82039925e+02, 4.02490078e+02,\n",
       "       4.44720014e+02, 4.71774475e+02, 4.92524577e+02, 6.44518537e+02,\n",
       "       2.91126100e+02, 2.19845591e+02, 3.12032155e+01, 7.02406115e+02,\n",
       "       5.92252952e+02, 3.50791767e+02, 2.31204089e+02, 5.00374062e+02,\n",
       "       1.03524634e+02, 3.54571378e+02, 4.15827004e+02, 4.89453651e+02,\n",
       "       4.40612593e+02, 3.79991085e+02, 6.49822162e+02, 5.83349345e+02,\n",
       "       1.68015394e+02, 5.61820381e+02, 2.57540256e+02, 1.16170715e+02,\n",
       "       7.22483528e+02, 6.19143528e+02, 4.71697174e+02, 3.66296367e+02,\n",
       "       5.78771865e+01, 3.15494431e+02, 1.10497539e+02, 6.32769793e+02,\n",
       "       6.31819831e+01, 1.00663620e+02, 4.51280526e+01, 5.17086471e+02,\n",
       "       3.54734952e+02, 1.37892688e+02, 6.75861020e+02, 7.46537502e+02,\n",
       "       3.48702348e+02, 6.21835945e+02, 7.25144059e+02, 2.23965866e+02,\n",
       "       2.67761543e+02, 6.90306489e+02, 7.74267623e+02, 1.53241059e+02,\n",
       "       7.23350235e+02, 4.02529110e+02, 1.26649839e+02, 5.95099419e+02,\n",
       "       9.79982223e+01, 3.65486434e+02, 4.69111845e+02, 8.89097823e+01,\n",
       "       6.53937483e+02, 6.28007593e+02, 4.09578616e+02, 6.05461932e+02,\n",
       "       5.28801748e+01, 4.02237672e+02, 2.96410844e+02, 5.31623238e+01,\n",
       "       4.35718508e+01, 3.23721691e+02, 1.72274981e+02, 3.04666664e+02,\n",
       "       6.81696244e+02, 3.55261410e+01, 2.46555156e+02, 4.81738334e+01,\n",
       "       3.50602397e+01, 6.17787229e+02, 7.63939500e+02, 1.79125371e+02,\n",
       "       5.12219801e+01, 3.83981247e+02, 9.54438935e+01, 5.23991703e+01,\n",
       "       6.60867809e+02, 7.62847798e+02, 5.60168540e+01, 7.66062062e+02,\n",
       "       7.95379250e+02, 8.41280665e+01, 1.29050159e+02, 7.96871656e+02,\n",
       "       3.26377796e+02, 1.86961918e+01, 5.33765281e+02, 4.37957362e+02,\n",
       "       3.39502706e+02, 3.12697273e+02, 6.44722979e+02, 1.22588250e+02,\n",
       "       4.44272792e+02, 6.82153596e+02, 2.04647480e+02, 4.22046938e+01,\n",
       "       3.81180625e+02, 1.56684202e+02, 2.71667106e+02, 4.01052810e+02,\n",
       "       8.02164088e+02, 2.31585384e+02, 1.34355192e+02, 8.43607350e+02,\n",
       "       6.92867257e+02, 8.01533991e+02, 2.59336871e+02, 5.88662451e+01,\n",
       "       3.85823127e+02, 6.55057415e+02, 2.32817293e+02, 6.30433491e+02,\n",
       "       5.31445091e+02, 5.87772208e+02, 4.68158025e+02, 8.37105555e+02,\n",
       "       4.47308906e+02, 6.78377554e+02, 5.91926913e+02, 5.00758488e+02,\n",
       "       4.21601053e+02, 4.66521978e+02, 5.64121210e+02, 4.53680649e+02,\n",
       "       3.69835931e+02, 4.47939659e+02, 4.97654654e+02, 2.15530680e+02,\n",
       "       4.42568196e+01, 1.45310914e+02, 7.06684942e+02, 3.23149371e+02,\n",
       "       5.87008667e+02, 5.70919805e+02, 1.32979296e+02, 8.06267274e+02,\n",
       "       4.70946655e+02, 1.48603714e+02, 3.82656657e+02, 4.00127034e+02,\n",
       "       2.55803742e+02, 4.76883585e+02, 7.84819751e+02, 5.57106948e+02,\n",
       "       5.43930467e+02, 2.97537063e+02, 1.09697479e+02, 4.61912232e+02,\n",
       "       3.34010111e+02, 2.49739712e+01, 5.64658178e+02, 4.54437084e+02,\n",
       "       6.18655329e+02, 7.79830260e+02, 7.14392025e+02, 1.09152878e+02,\n",
       "       4.35094875e+02, 1.61242371e+02, 8.55318373e+02, 7.83943184e+02,\n",
       "       6.55420897e+02, 9.43212954e+01, 5.91287224e+02, 2.71667283e+02,\n",
       "       1.80281146e+02, 5.20436259e+02, 3.12998039e+02, 4.82386276e+02,\n",
       "       3.23571548e+02, 2.58608543e+02, 3.26861409e+02, 5.29696785e+02,\n",
       "       5.82094121e+02, 5.19775301e+02, 1.61210585e+02, 4.31865008e+02,\n",
       "       2.22595633e+02, 1.96640679e+02, 7.05656343e+02, 6.20337482e+02,\n",
       "       3.03621575e+02, 2.70614694e+01, 7.59611760e+02, 6.93802812e+02,\n",
       "       2.87954605e+02, 1.83468474e+02, 8.79731240e+01, 7.31106333e+02,\n",
       "       7.85555039e+02, 2.25288809e+02, 3.96932357e+02, 1.93054357e+02,\n",
       "       5.01087274e+02, 3.96131582e+02, 8.82943337e+02, 8.94904146e+02,\n",
       "       9.14179192e+02, 8.76697244e+02, 5.05790931e+02, 1.87468954e+02,\n",
       "       6.36208723e+01, 8.48394113e+02, 6.33437089e+02, 9.52284709e+01,\n",
       "       2.30726935e+02, 4.35745691e+02, 8.44177417e+02, 8.85026271e+02,\n",
       "       8.71826547e+02, 4.09437061e+02, 9.10132416e+02, 2.16223975e+02,\n",
       "       7.63100440e+02, 5.55567163e+01, 2.45405465e+02, 7.47293180e+02,\n",
       "       8.84314532e+02, 2.09168849e+02, 3.78964551e+02, 3.68577875e+02,\n",
       "       9.14752881e+02, 5.69384787e+02, 2.86673887e+02, 6.01271515e+02,\n",
       "       9.30937278e+02, 3.57552421e+02, 2.79999660e+02, 3.38312169e+02,\n",
       "       9.29498090e+02, 3.44716294e+02, 3.64006143e+02, 8.58199262e+02,\n",
       "       8.63723735e+02, 5.90486529e+01, 2.04479602e+02, 7.13306618e+02,\n",
       "       4.32839345e+02, 2.29909424e+02, 4.57073547e+02, 6.17058316e+02,\n",
       "       6.50628519e+02, 2.99810809e+02, 1.08552911e+02, 9.71636674e+02,\n",
       "       8.29090777e+02, 1.79058840e+02, 4.01657432e+02, 4.89393550e+02,\n",
       "       4.56701251e+01, 6.69917628e+02, 1.96378226e+02, 4.30707117e+02,\n",
       "       8.50405975e+02, 9.09598980e+02, 4.93815852e+02, 5.77011542e+02,\n",
       "       4.46247388e+02, 7.23675678e+02, 7.44198380e+02, 9.49331933e+02])"
      ]
     },
     "execution_count": 12,
     "metadata": {},
     "output_type": "execute_result"
    }
   ],
   "source": [
    "import random\n",
    "import numpy as np\n",
    "\n",
    "nums = np.array(range(1,1001))\n",
    "sales_figures = nums * np.random.rand(1000)\n",
    "sales_figures"
   ]
  },
  {
   "cell_type": "markdown",
   "metadata": {},
   "source": [
    "We now have sales prices for 1000 items currently for sale at BuyStuff. Now create an RDD called `price_items` using the newly created data with 10 slices. After you create it, use one of the basic actions to see what's in the RDD."
   ]
  },
  {
   "cell_type": "code",
   "execution_count": 13,
   "metadata": {
    "ExecuteTime": {
     "end_time": "2019-12-02T23:29:23.829922Z",
     "start_time": "2019-12-02T23:29:23.814969Z"
    }
   },
   "outputs": [],
   "source": [
    "price_items = sc.parallelize(sales_figures, 10)\n"
   ]
  },
  {
   "cell_type": "markdown",
   "metadata": {},
   "source": [
    "Now let's perform some operations on this simple dataset. To begin with, create a function that will take into account how much money BuyStuff will receive after sales tax has been applied (assume a sales tax of 8%). To make this happen, create a function called `sales_tax` that returns the amount of money our company will receive after the sale tax has been applied. The function will have this parameter:\n",
    "\n",
    "* `item`: (float) number to be multiplied by the sales tax.\n",
    "\n",
    "\n",
    "Apply that function to the rdd by using the map method and assign it to a variable `renenue_minus_tax`"
   ]
  },
  {
   "cell_type": "code",
   "execution_count": 15,
   "metadata": {
    "ExecuteTime": {
     "end_time": "2019-12-02T23:32:39.317607Z",
     "start_time": "2019-12-02T23:32:39.313609Z"
    }
   },
   "outputs": [],
   "source": [
    "def sales_tax(num):\n",
    "    return num*.92\n",
    "\n",
    "revenue_minus_tax = price_items.map(sales_tax)"
   ]
  },
  {
   "cell_type": "markdown",
   "metadata": {},
   "source": [
    "Remember, Spark has __lazy evaluation__, which means that the `sales_tax` function is a transformer that is not executed until you call an action. Use one of the collection methods to execute the transformer now a part of the RDD and observe the contents of the `revenue_minus_tax` rdd."
   ]
  },
  {
   "cell_type": "code",
   "execution_count": 16,
   "metadata": {
    "ExecuteTime": {
     "end_time": "2019-12-02T23:32:54.281048Z",
     "start_time": "2019-12-02T23:32:53.688491Z"
    },
    "scrolled": true
   },
   "outputs": [
    {
     "data": {
      "text/plain": [
       "[0.36298750458514856,\n",
       " 1.0600804730931253,\n",
       " 0.6185835628005315,\n",
       " 2.7800721227980936,\n",
       " 2.67218202753705,\n",
       " 0.7742354797311995,\n",
       " 3.2990360503125724,\n",
       " 2.381501403970284,\n",
       " 2.6456770467120214,\n",
       " 5.036678493424304]"
      ]
     },
     "execution_count": 16,
     "metadata": {},
     "output_type": "execute_result"
    }
   ],
   "source": [
    "# perform action to retrieve rdd values\n",
    "revenue_minus_tax.take(10)"
   ]
  },
  {
   "cell_type": "markdown",
   "metadata": {},
   "source": [
    "### Lambda Functions\n",
    "\n",
    "Note that you can also use lambda functions if you want to quickly perform simple operations on data without creating a function. Let's assume that BuyStuff has also decided to offer a 10% discount on all of their items on the pre-tax amounts of each item. Use a lambda function within a map method to apply the additional 10% loss in revenue for BuyStuff and assign the transformed RDD to a new RDD called `discounted`."
   ]
  },
  {
   "cell_type": "code",
   "execution_count": 17,
   "metadata": {
    "ExecuteTime": {
     "end_time": "2019-12-02T23:33:48.518871Z",
     "start_time": "2019-12-02T23:33:48.514850Z"
    }
   },
   "outputs": [],
   "source": [
    "discounted = revenue_minus_tax.map(lambda x: x*0.9)"
   ]
  },
  {
   "cell_type": "code",
   "execution_count": 18,
   "metadata": {
    "ExecuteTime": {
     "end_time": "2019-12-02T23:33:49.626553Z",
     "start_time": "2019-12-02T23:33:49.021575Z"
    },
    "scrolled": true
   },
   "outputs": [
    {
     "data": {
      "text/plain": [
       "[0.32668875412663373,\n",
       " 0.9540724257838128,\n",
       " 0.5567252065204784,\n",
       " 2.502064910518284,\n",
       " 2.4049638247833447,\n",
       " 0.6968119317580797,\n",
       " 2.969132445281315,\n",
       " 2.1433512635732557,\n",
       " 2.381109342040819,\n",
       " 4.533010644081874]"
      ]
     },
     "execution_count": 18,
     "metadata": {},
     "output_type": "execute_result"
    }
   ],
   "source": [
    "discounted.take(10)"
   ]
  },
  {
   "cell_type": "markdown",
   "metadata": {},
   "source": [
    "## Chaining Methods\n",
    "\n",
    "You are also able to chain methods together with Spark. In one line, remove the tax and discount from the revenue of BuyStuff use a collection method to see the 15 costliest items."
   ]
  },
  {
   "cell_type": "code",
   "execution_count": 19,
   "metadata": {
    "ExecuteTime": {
     "end_time": "2019-12-02T23:34:31.473567Z",
     "start_time": "2019-12-02T23:34:25.922475Z"
    },
    "scrolled": true
   },
   "outputs": [
    {
     "data": {
      "text/plain": [
       "[804.5151660469808,\n",
       " 786.0468408691427,\n",
       " 770.8160662992331,\n",
       " 769.6244187033906,\n",
       " 757.4153851025328,\n",
       " 756.9403710152579,\n",
       " 753.5896407310317,\n",
       " 753.1479557780955,\n",
       " 740.9806326054932,\n",
       " 732.8017527867266,\n",
       " 732.2124327562597,\n",
       " 731.0770834286665,\n",
       " 725.9053180840152,\n",
       " 721.8723810017699,\n",
       " 715.1632524349053]"
      ]
     },
     "execution_count": 19,
     "metadata": {},
     "output_type": "execute_result"
    }
   ],
   "source": [
    "price_items.map(sales_tax).map(lambda x: x*0.9).top(15)"
   ]
  },
  {
   "cell_type": "markdown",
   "metadata": {},
   "source": [
    "## RDD Lineage\n",
    "\n",
    "\n",
    "We are able to see the full lineage of all the operations that have been performed on an RDD by using the `RDD.toDebugString()` method. As your transformations become more complex, you are encouraged to call this method to get a better understanding of the dependencies between RDDs. Try calling it on the `discounted` RDD to see what RDDs it is dependent on."
   ]
  },
  {
   "cell_type": "code",
   "execution_count": 20,
   "metadata": {
    "ExecuteTime": {
     "end_time": "2019-12-02T23:35:01.342994Z",
     "start_time": "2019-12-02T23:35:01.331032Z"
    }
   },
   "outputs": [
    {
     "data": {
      "text/plain": [
       "b'(10) PythonRDD[9] at RDD at PythonRDD.scala:53 []\\n |   ParallelCollectionRDD[5] at parallelize at PythonRDD.scala:195 []'"
      ]
     },
     "execution_count": 20,
     "metadata": {},
     "output_type": "execute_result"
    }
   ],
   "source": [
    "discounted.toDebugString()"
   ]
  },
  {
   "cell_type": "markdown",
   "metadata": {},
   "source": [
    "### Map vs. Flatmap\n",
    "\n",
    "Depending on how you want your data to be outputted, you might want to use flatMap rather than a simple map. Let's take a look at how it performs operations versus the standard map. Let's say we wanted to maintain the original amount BuyStuff receives for each item as well as the new amount after the tax and discount are applied. Create a map function that will a tuple with (original price, post-discount price)."
   ]
  },
  {
   "cell_type": "code",
   "execution_count": 21,
   "metadata": {
    "ExecuteTime": {
     "end_time": "2019-12-02T23:36:09.604269Z",
     "start_time": "2019-12-02T23:36:03.569758Z"
    }
   },
   "outputs": [
    {
     "name": "stdout",
     "output_type": "stream",
     "text": [
      "1000\n",
      "[(0.3945516354186397, 0.32668875412663373), (1.1522613837968751, 0.9540724257838128), (0.6723734378266647, 0.5567252065204784), (3.0218175247805363, 2.502064910518284), (2.9045456821054887, 2.4049638247833447), (0.8415603040556516, 0.6968119317580797), (3.5859087503397524, 2.969132445281315), (2.5885884825763954, 2.1433512635732557), (2.8757359203391535, 2.381109342040819), (5.474650536330765, 4.533010644081874)]\n"
     ]
    }
   ],
   "source": [
    "mapped = price_items.map(lambda x:(x, x*0.92*0.9))\n",
    "print(mapped.count())\n",
    "print(mapped.take(10))"
   ]
  },
  {
   "cell_type": "markdown",
   "metadata": {},
   "source": [
    "Note that we have 1000 tuples created to our specification. Let's take a look at how flatMap differs in its implementation. Use the `flatMap` method with the same function you created above."
   ]
  },
  {
   "cell_type": "code",
   "execution_count": 22,
   "metadata": {
    "ExecuteTime": {
     "end_time": "2019-12-02T23:36:50.337208Z",
     "start_time": "2019-12-02T23:36:44.346915Z"
    }
   },
   "outputs": [
    {
     "name": "stdout",
     "output_type": "stream",
     "text": [
      "2000\n",
      "[0.3945516354186397, 0.32668875412663373, 1.1522613837968751, 0.9540724257838128, 0.6723734378266647, 0.5567252065204784, 3.0218175247805363, 2.502064910518284, 2.9045456821054887, 2.4049638247833447]\n"
     ]
    }
   ],
   "source": [
    "flat_mapped = price_items.flatMap(lambda x:(x, x*0.92*0.9))\n",
    "print(flat_mapped.count())\n",
    "print(flat_mapped.take(10))"
   ]
  },
  {
   "cell_type": "markdown",
   "metadata": {},
   "source": [
    "Rather than being represented by tuples, all of the  values are now on the same level. When we are trying to combine different items together, it is sometimes necessary to use flatmap rather than map in order to properly reduce to our specifications. This is not one of those instances, but int he upcoming lab, you just might have to use it."
   ]
  },
  {
   "cell_type": "markdown",
   "metadata": {},
   "source": [
    "## Filter\n",
    "After meeting with some external consultants, BuyStuff has determined that its business will be more profitable if it focuses on higher ticket items. Now, use the filter method to select items that bring in more than $300 after tax and discount have been removed. A filter method is a specialized form of a map function that only returns the items that match a certain criterion. In the cell below:\n",
    "* use a lambda function within a filter function to meet the consultant's suggestion's specifications. set RDD = `selected_items`\n",
    "* calculate the total number of items remaining in BuyStuff's inventory"
   ]
  },
  {
   "cell_type": "code",
   "execution_count": 23,
   "metadata": {
    "ExecuteTime": {
     "end_time": "2019-12-02T23:38:16.963466Z",
     "start_time": "2019-12-02T23:38:11.383688Z"
    }
   },
   "outputs": [
    {
     "data": {
      "text/plain": [
       "268"
      ]
     },
     "execution_count": 23,
     "metadata": {},
     "output_type": "execute_result"
    }
   ],
   "source": [
    "# use the filter function\n",
    "selected_items = discounted.filter(lambda x: x>300)\n",
    "\n",
    "# calculate total remaining in inventory \n",
    "selected_items.count()"
   ]
  },
  {
   "cell_type": "markdown",
   "metadata": {},
   "source": [
    "## Reduce\n",
    "\n",
    "Reduce functions are where you are in some way combing all of the variables that you have mapped out. Here is an example of how a reduce function works when the task is to sum all values:\n",
    "\n",
    "<img src = \"./images/reduce_function.png\" width = \"600\">  \n",
    "\n",
    "\n",
    "As you can see, the operation is performed within each partition first, after which, the results of the computations in each partition are combined to come up with one final answer.  \n",
    "\n",
    "Now it's time to figure out how much money BuyStuff would make from selling one of all of its items after they've reduced their inventory. Use a reduce method with a lambda function to add up all of the values in the RDD. Your lambda function should have two variables. "
   ]
  },
  {
   "cell_type": "code",
   "execution_count": 25,
   "metadata": {
    "ExecuteTime": {
     "end_time": "2019-12-02T23:39:17.619822Z",
     "start_time": "2019-12-02T23:39:12.155902Z"
    }
   },
   "outputs": [
    {
     "data": {
      "text/plain": [
       "124304.03237397692"
      ]
     },
     "execution_count": 25,
     "metadata": {},
     "output_type": "execute_result"
    }
   ],
   "source": [
    "selected_items.reduce(lambda x,y: x + y)"
   ]
  },
  {
   "cell_type": "markdown",
   "metadata": {},
   "source": [
    "The time has come for BuyStuff to open up shop and start selling its goods. It only has one of each item, but it's allowing 50 lucky users to buy as many items as they want while they remain in stock. Within seconds, BuyStuff is sold out. Below, you'll find the sales data in an RDD with tuples of (user, item bought)."
   ]
  },
  {
   "cell_type": "code",
   "execution_count": 26,
   "metadata": {
    "ExecuteTime": {
     "end_time": "2019-12-02T23:39:44.469315Z",
     "start_time": "2019-12-02T23:39:41.629828Z"
    }
   },
   "outputs": [
    {
     "data": {
      "text/plain": [
       "[(33, 311.85936717656057),\n",
       " (35, 316.63181252720386),\n",
       " (11, 305.15321258886587),\n",
       " (39, 325.28355467381283),\n",
       " (42, 327.67548752410886),\n",
       " (19, 314.30578177524563),\n",
       " (30, 305.2158643902881)]"
      ]
     },
     "execution_count": 26,
     "metadata": {},
     "output_type": "execute_result"
    }
   ],
   "source": [
    "import random\n",
    "random.seed(42)\n",
    "# generating simulated users that have bought each item\n",
    "sales_data = selected_items.map(lambda x: (random.randint(1,50),x))\n",
    "\n",
    "sales_data.take(7)"
   ]
  },
  {
   "cell_type": "markdown",
   "metadata": {},
   "source": [
    "It's time to determine some basic statistics about BuyStuff users.\n",
    "\n",
    "Let's start off by creating an RDD that determines how much each user spent in total.\n",
    "To do this we can use a method called __reduceByKey__ to perform reducing operations while grouping by keys. After you have calculated the total, use the __sortBy__ method on the RDD to rank the users from the highest spending to the least spending.\n",
    "\n"
   ]
  },
  {
   "cell_type": "code",
   "execution_count": 27,
   "metadata": {
    "ExecuteTime": {
     "end_time": "2019-12-02T23:40:44.435101Z",
     "start_time": "2019-12-02T23:40:37.116707Z"
    }
   },
   "outputs": [
    {
     "data": {
      "text/plain": [
       "[(50, 3209.833897809516),\n",
       " (40, 1034.0198024613915),\n",
       " (30, 2797.3172003263962),\n",
       " (20, 2739.7500247496664),\n",
       " (10, 2308.1438015680014),\n",
       " (11, 2772.826613986864),\n",
       " (21, 2333.4573817618057),\n",
       " (31, 1647.6878096823004),\n",
       " (41, 1805.3683810021985),\n",
       " (1, 1654.7737482098805)]"
      ]
     },
     "execution_count": 27,
     "metadata": {},
     "output_type": "execute_result"
    }
   ],
   "source": [
    "# calculate how much each user spent\n",
    "total_spent = sales_data.reduceByKey(lambda x,y: x+y)\n",
    "total_spent.take(10)"
   ]
  },
  {
   "cell_type": "code",
   "execution_count": 28,
   "metadata": {
    "ExecuteTime": {
     "end_time": "2019-12-02T23:41:26.262719Z",
     "start_time": "2019-12-02T23:41:04.485852Z"
    }
   },
   "outputs": [
    {
     "data": {
      "text/plain": [
       "[(39, 5103.415908431285),\n",
       " (36, 4943.951940734657),\n",
       " (43, 4433.280066416479),\n",
       " (24, 4201.8651322830065),\n",
       " (35, 4134.826171909113),\n",
       " (27, 3934.912518253257),\n",
       " (37, 3875.570218166396),\n",
       " (9, 3668.503577897419),\n",
       " (5, 3399.7294009854318),\n",
       " (8, 3258.6105598869303),\n",
       " (50, 3209.833897809516),\n",
       " (13, 3159.254384285821),\n",
       " (44, 3066.8454276541925),\n",
       " (33, 2970.2406576667927),\n",
       " (34, 2863.5028692634323),\n",
       " (25, 2809.801665747578),\n",
       " (30, 2797.3172003263962),\n",
       " (11, 2772.826613986864),\n",
       " (16, 2740.369586490811),\n",
       " (20, 2739.7500247496664),\n",
       " (3, 2607.447192221106),\n",
       " (28, 2491.3854524885783),\n",
       " (19, 2347.7759766897425),\n",
       " (21, 2333.4573817618057),\n",
       " (10, 2308.1438015680014),\n",
       " (22, 2302.842469607832),\n",
       " (26, 2252.893410342373),\n",
       " (2, 2229.1488654527275),\n",
       " (12, 2225.0812865089083),\n",
       " (42, 2203.6714500741464),\n",
       " (14, 2135.9741534499985),\n",
       " (29, 2094.5920381899587),\n",
       " (15, 2073.0850922133686),\n",
       " (38, 1910.2461772586346),\n",
       " (45, 1904.7841624596063),\n",
       " (4, 1902.1781857561184),\n",
       " (23, 1886.9329828979921),\n",
       " (41, 1805.3683810021985),\n",
       " (1, 1654.7737482098805),\n",
       " (31, 1647.6878096823004),\n",
       " (48, 1586.4195777892228),\n",
       " (6, 1543.5158975505046),\n",
       " (7, 1534.0001139153428),\n",
       " (46, 1232.5379165807608),\n",
       " (47, 1131.0746225653081),\n",
       " (49, 1041.8941731909977),\n",
       " (40, 1034.0198024613915),\n",
       " (18, 1006.7682256808253),\n",
       " (17, 915.0174450611576),\n",
       " (32, 876.9067584010825)]"
      ]
     },
     "execution_count": 28,
     "metadata": {},
     "output_type": "execute_result"
    }
   ],
   "source": [
    "# sort the users from highest to lowest spenders\n",
    "total_spent.sortBy(lambda x: x[1], ascending=False).collect()"
   ]
  },
  {
   "cell_type": "markdown",
   "metadata": {},
   "source": [
    "Next, let's determine how many items were bought per user. This can be solved in one line using an RDD method. After you've counted the total number of items bought per person, sort the users from most number of items bought to least number of items. Time to start a customer loyalty program!"
   ]
  },
  {
   "cell_type": "code",
   "execution_count": 29,
   "metadata": {
    "ExecuteTime": {
     "end_time": "2019-12-02T23:42:07.607914Z",
     "start_time": "2019-12-02T23:42:02.154194Z"
    }
   },
   "outputs": [
    {
     "data": {
      "text/plain": [
       "[(22, 13),\n",
       " (15, 10),\n",
       " (5, 9),\n",
       " (40, 9),\n",
       " (3, 9),\n",
       " (46, 9),\n",
       " (36, 8),\n",
       " (41, 8),\n",
       " (47, 8),\n",
       " (9, 8),\n",
       " (16, 7),\n",
       " (39, 7),\n",
       " (17, 7),\n",
       " (13, 7),\n",
       " (32, 7),\n",
       " (35, 7),\n",
       " (26, 7),\n",
       " (34, 6),\n",
       " (28, 6),\n",
       " (48, 6),\n",
       " (10, 6),\n",
       " (43, 6),\n",
       " (6, 6),\n",
       " (1, 5),\n",
       " (27, 5),\n",
       " (44, 5),\n",
       " (2, 5),\n",
       " (12, 5),\n",
       " (7, 5),\n",
       " (11, 4),\n",
       " (18, 4),\n",
       " (45, 4),\n",
       " (4, 4),\n",
       " (25, 4),\n",
       " (42, 4),\n",
       " (30, 4),\n",
       " (31, 3),\n",
       " (19, 3),\n",
       " (14, 3),\n",
       " (21, 3),\n",
       " (8, 3),\n",
       " (38, 3),\n",
       " (20, 3),\n",
       " (37, 3),\n",
       " (29, 2),\n",
       " (50, 2),\n",
       " (24, 2),\n",
       " (49, 2),\n",
       " (23, 1),\n",
       " (33, 1)]"
      ]
     },
     "execution_count": 29,
     "metadata": {},
     "output_type": "execute_result"
    }
   ],
   "source": [
    "total_items = sales_data.countByKey()\n",
    "sorted(total_items.items(), key=lambda kv: kv[1], reverse=True)"
   ]
  },
  {
   "cell_type": "markdown",
   "metadata": {},
   "source": [
    "### Additional Reading\n",
    "\n",
    "- [The original paper on RDDs](https://cs.stanford.edu/~matei/papers/2012/nsdi_spark.pdf)\n",
    "- [RDDs in Apache Spark](https://data-flair.training/blogs/create-rdds-in-apache-spark/)\n",
    "- [Programming with RDDs](https://runawayhorse001.github.io/LearningApacheSpark/rdd.html)\n",
    "- [RDD Transformations and Actions Summary](https://www.analyticsvidhya.com/blog/2016/10/using-pyspark-to-perform-transformations-and-actions-on-rdd/)"
   ]
  },
  {
   "cell_type": "markdown",
   "metadata": {},
   "source": [
    "## Summary\n",
    "\n",
    "In this lab we went through a brief introduction to RDD creation from a Python collection, setting a number of logical partitions for an RDD, and extracting lineage and of an RDD in a spark application. We also used transformations and actions to perform calculations across RDDs on a distributed setup. Up next, you'll get the chance to apply these transformations on different books to calculate word counts and various statistics.\n"
   ]
  }
 ],
 "metadata": {
  "kernelspec": {
   "display_name": "Python 3",
   "language": "python",
   "name": "python3"
  },
  "language_info": {
   "codemirror_mode": {
    "name": "ipython",
    "version": 3
   },
   "file_extension": ".py",
   "mimetype": "text/x-python",
   "name": "python",
   "nbconvert_exporter": "python",
   "pygments_lexer": "ipython3",
   "version": "3.7.3"
  },
  "toc": {
   "base_numbering": 1,
   "nav_menu": {},
   "number_sections": true,
   "sideBar": true,
   "skip_h1_title": false,
   "title_cell": "Table of Contents",
   "title_sidebar": "Contents",
   "toc_cell": false,
   "toc_position": {},
   "toc_section_display": true,
   "toc_window_display": false
  },
  "varInspector": {
   "cols": {
    "lenName": 16,
    "lenType": 16,
    "lenVar": 40
   },
   "kernels_config": {
    "python": {
     "delete_cmd_postfix": "",
     "delete_cmd_prefix": "del ",
     "library": "var_list.py",
     "varRefreshCmd": "print(var_dic_list())"
    },
    "r": {
     "delete_cmd_postfix": ") ",
     "delete_cmd_prefix": "rm(",
     "library": "var_list.r",
     "varRefreshCmd": "cat(var_dic_list()) "
    }
   },
   "types_to_exclude": [
    "module",
    "function",
    "builtin_function_or_method",
    "instance",
    "_Feature"
   ],
   "window_display": false
  }
 },
 "nbformat": 4,
 "nbformat_minor": 2
}
